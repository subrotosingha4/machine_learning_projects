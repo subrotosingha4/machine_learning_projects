{
  "nbformat": 4,
  "nbformat_minor": 0,
  "metadata": {
    "colab": {
      "name": "Best-School-Prediction-in-US-States.ipynb",
      "provenance": [],
      "collapsed_sections": [],
      "authorship_tag": "ABX9TyMF4FWmo4UCRP2FuFCE6oHr",
      "include_colab_link": true
    },
    "kernelspec": {
      "name": "python3",
      "display_name": "Python 3"
    },
    "language_info": {
      "name": "python"
    },
    "widgets": {
      "application/vnd.jupyter.widget-state+json": {
        "6c8a707a162d463da8506f7c3551f788": {
          "model_module": "@jupyter-widgets/controls",
          "model_name": "IntProgressModel",
          "model_module_version": "1.5.0",
          "state": {
            "_view_name": "ProgressView",
            "style": "IPY_MODEL_1def48c2914d4bb88cbb9ea84af2ba0e",
            "_dom_classes": [],
            "description": "Processing: ",
            "_model_name": "IntProgressModel",
            "bar_style": "",
            "max": 4,
            "_view_module": "@jupyter-widgets/controls",
            "_model_module_version": "1.5.0",
            "value": 4,
            "_view_count": null,
            "_view_module_version": "1.5.0",
            "orientation": "horizontal",
            "min": 0,
            "description_tooltip": null,
            "_model_module": "@jupyter-widgets/controls",
            "layout": "IPY_MODEL_f3e51642eb104036865e2d1adbfd3325"
          }
        },
        "1def48c2914d4bb88cbb9ea84af2ba0e": {
          "model_module": "@jupyter-widgets/controls",
          "model_name": "ProgressStyleModel",
          "model_module_version": "1.5.0",
          "state": {
            "_view_name": "StyleView",
            "_model_name": "ProgressStyleModel",
            "description_width": "",
            "_view_module": "@jupyter-widgets/base",
            "_model_module_version": "1.5.0",
            "_view_count": null,
            "_view_module_version": "1.2.0",
            "bar_color": null,
            "_model_module": "@jupyter-widgets/controls"
          }
        },
        "f3e51642eb104036865e2d1adbfd3325": {
          "model_module": "@jupyter-widgets/base",
          "model_name": "LayoutModel",
          "model_module_version": "1.2.0",
          "state": {
            "_view_name": "LayoutView",
            "grid_template_rows": null,
            "right": null,
            "justify_content": null,
            "_view_module": "@jupyter-widgets/base",
            "overflow": null,
            "_model_module_version": "1.2.0",
            "_view_count": null,
            "flex_flow": null,
            "width": null,
            "min_width": null,
            "border": null,
            "align_items": null,
            "bottom": null,
            "_model_module": "@jupyter-widgets/base",
            "top": null,
            "grid_column": null,
            "overflow_y": null,
            "overflow_x": null,
            "grid_auto_flow": null,
            "grid_area": null,
            "grid_template_columns": null,
            "flex": null,
            "_model_name": "LayoutModel",
            "justify_items": null,
            "grid_row": null,
            "max_height": null,
            "align_content": null,
            "visibility": null,
            "align_self": null,
            "height": null,
            "min_height": null,
            "padding": null,
            "grid_auto_rows": null,
            "grid_gap": null,
            "max_width": null,
            "order": null,
            "_view_module_version": "1.2.0",
            "grid_template_areas": null,
            "object_position": null,
            "object_fit": null,
            "grid_auto_columns": null,
            "margin": null,
            "display": null,
            "left": null
          }
        }
      }
    }
  },
  "cells": [
    {
      "cell_type": "markdown",
      "metadata": {
        "id": "view-in-github",
        "colab_type": "text"
      },
      "source": [
        "<a href=\"https://colab.research.google.com/github/subrotosingha4/machine_learning_projects/blob/main/Best_School_Prediction_in_US_States.ipynb\" target=\"_parent\"><img src=\"https://colab.research.google.com/assets/colab-badge.svg\" alt=\"Open In Colab\"/></a>"
      ]
    },
    {
      "cell_type": "markdown",
      "metadata": {
        "id": "h-7E9_jSFjxo"
      },
      "source": [
        "# Project\n",
        "- **Goal**: is to predict standard score of high schools in New Jersy\n",
        "- The outcome of this project can be usable for selecting schools for prospective year\n",
        "- Even it is possible to prototype the idea of niche(https://www.niche.com/k12/rankings/)\n",
        "\n",
        "## Steps:\n",
        "- Import the necessary libraries\n",
        "- Load the real data\n",
        "- Perform **Qualitative analysis**: remove *noise variable*, check data distribution,primary idea about future data imputation(mean,median,mode,hard-coded impuation)\n",
        "- Perform **Exploratory data analysis(EDA)**: using Sweetviz and Pandas Profiling-check cardinality,or\n",
        "- Perform **Quantitative analysis**: any missing value, how many missing value, how many numrical value and categorical values\n",
        "- **Data preprocessing**: missing value handling\n",
        "- **Predictive modeling***: use Pycaret to check the best model then train the best model\n",
        "- **Model evaluateion**: R2, MSE, MAE, RMSE (For  regression)\n",
        "- **Model testing**: perform the model performance on ***client data**"
      ]
    },
    {
      "cell_type": "markdown",
      "metadata": {
        "id": "bph9UOdeFcZp"
      },
      "source": [
        "# Import Libraries"
      ]
    },
    {
      "cell_type": "code",
      "metadata": {
        "id": "mb8dj-1FDu4B"
      },
      "source": [
        "import numpy as np\n",
        "import pandas as pd"
      ],
      "execution_count": 1,
      "outputs": []
    },
    {
      "cell_type": "markdown",
      "metadata": {
        "id": "Qjq5UUADFgVw"
      },
      "source": [
        "# Loading Data"
      ]
    },
    {
      "cell_type": "code",
      "metadata": {
        "colab": {
          "base_uri": "https://localhost:8080/",
          "height": 677
        },
        "id": "idu0-YKI-06_",
        "outputId": "67c73444-c232-496c-9802-eae155e0222a"
      },
      "source": [
        "df=pd.read_csv('/content/New Jersey -  High Schools.csv')\n",
        "df.head()"
      ],
      "execution_count": 2,
      "outputs": [
        {
          "output_type": "execute_result",
          "data": {
            "text/html": [
              "<div>\n",
              "<style scoped>\n",
              "    .dataframe tbody tr th:only-of-type {\n",
              "        vertical-align: middle;\n",
              "    }\n",
              "\n",
              "    .dataframe tbody tr th {\n",
              "        vertical-align: top;\n",
              "    }\n",
              "\n",
              "    .dataframe thead th {\n",
              "        text-align: right;\n",
              "    }\n",
              "</style>\n",
              "<table border=\"1\" class=\"dataframe\">\n",
              "  <thead>\n",
              "    <tr style=\"text-align: right;\">\n",
              "      <th></th>\n",
              "      <th>School</th>\n",
              "      <th>School URL</th>\n",
              "      <th>District</th>\n",
              "      <th>District URL</th>\n",
              "      <th>Address</th>\n",
              "      <th>City</th>\n",
              "      <th>City URL</th>\n",
              "      <th>Zip</th>\n",
              "      <th>County</th>\n",
              "      <th>Phone</th>\n",
              "      <th>Low Grade</th>\n",
              "      <th>High Grade</th>\n",
              "      <th>Is Title I</th>\n",
              "      <th>Is Charter</th>\n",
              "      <th>Is Magnet</th>\n",
              "      <th>Is Virtual</th>\n",
              "      <th>Number Students</th>\n",
              "      <th>Number Full-time Teachers</th>\n",
              "      <th>Student/Teacher Ratio</th>\n",
              "      <th>Percent Free/Disc Lunch</th>\n",
              "      <th>Percent African American</th>\n",
              "      <th>Percent American Indian</th>\n",
              "      <th>Percent Asian</th>\n",
              "      <th>Percent Hispanic</th>\n",
              "      <th>Percent Pacific Islander</th>\n",
              "      <th>Percent Two or More Races</th>\n",
              "      <th>Percent White</th>\n",
              "      <th>Standard Score</th>\n",
              "    </tr>\n",
              "  </thead>\n",
              "  <tbody>\n",
              "    <tr>\n",
              "      <th>0</th>\n",
              "      <td>Academy For Information Technology</td>\n",
              "      <td>https://www.schooldigger.com/go/NJ/schools/180...</td>\n",
              "      <td>Union County Vocational-Technical School District</td>\n",
              "      <td>https://www.schooldigger.com/go/NJ/district/18...</td>\n",
              "      <td>1776 Raritan Road</td>\n",
              "      <td>Scotch Plains</td>\n",
              "      <td>https://www.schooldigger.com/go/NJ/city/Scotch...</td>\n",
              "      <td>7076</td>\n",
              "      <td>Union County</td>\n",
              "      <td>(908) 889-8288</td>\n",
              "      <td>9</td>\n",
              "      <td>12</td>\n",
              "      <td>No</td>\n",
              "      <td>No</td>\n",
              "      <td>(n/a)</td>\n",
              "      <td>No</td>\n",
              "      <td>284</td>\n",
              "      <td>14.9</td>\n",
              "      <td>18.9</td>\n",
              "      <td>0.09</td>\n",
              "      <td>0.08</td>\n",
              "      <td>0.0</td>\n",
              "      <td>0.25</td>\n",
              "      <td>0.20</td>\n",
              "      <td>0.01</td>\n",
              "      <td>0.01</td>\n",
              "      <td>0.45</td>\n",
              "      <td>95.5</td>\n",
              "    </tr>\n",
              "    <tr>\n",
              "      <th>1</th>\n",
              "      <td>Union County Magnet High School</td>\n",
              "      <td>https://www.schooldigger.com/go/NJ/schools/180...</td>\n",
              "      <td>Union County Vocational-Technical School District</td>\n",
              "      <td>https://www.schooldigger.com/go/NJ/district/18...</td>\n",
              "      <td>1776 Raritan Road</td>\n",
              "      <td>Scotch Plains</td>\n",
              "      <td>https://www.schooldigger.com/go/NJ/city/Scotch...</td>\n",
              "      <td>7076</td>\n",
              "      <td>Union County</td>\n",
              "      <td>(908) 889-8288</td>\n",
              "      <td>9</td>\n",
              "      <td>12</td>\n",
              "      <td>No</td>\n",
              "      <td>No</td>\n",
              "      <td>(n/a)</td>\n",
              "      <td>No</td>\n",
              "      <td>303</td>\n",
              "      <td>13.4</td>\n",
              "      <td>22.5</td>\n",
              "      <td>0.11</td>\n",
              "      <td>0.08</td>\n",
              "      <td>0.0</td>\n",
              "      <td>0.35</td>\n",
              "      <td>0.16</td>\n",
              "      <td>0.00</td>\n",
              "      <td>0.01</td>\n",
              "      <td>0.40</td>\n",
              "      <td>95.5</td>\n",
              "    </tr>\n",
              "    <tr>\n",
              "      <th>2</th>\n",
              "      <td>Middlesex County Vocational Academy Math Scien...</td>\n",
              "      <td>https://www.schooldigger.com/go/NJ/schools/100...</td>\n",
              "      <td>Middlesex County Vocational and Technical Scho...</td>\n",
              "      <td>https://www.schooldigger.com/go/NJ/district/10...</td>\n",
              "      <td>100 Technology Drive</td>\n",
              "      <td>Edison</td>\n",
              "      <td>https://www.schooldigger.com/go/NJ/city/Edison...</td>\n",
              "      <td>8837</td>\n",
              "      <td>Middlesex County</td>\n",
              "      <td>(732) 452-2600</td>\n",
              "      <td>9</td>\n",
              "      <td>12</td>\n",
              "      <td>No</td>\n",
              "      <td>No</td>\n",
              "      <td>(n/a)</td>\n",
              "      <td>No</td>\n",
              "      <td>159</td>\n",
              "      <td>12.0</td>\n",
              "      <td>13.2</td>\n",
              "      <td>0.02</td>\n",
              "      <td>0.01</td>\n",
              "      <td>0.0</td>\n",
              "      <td>0.84</td>\n",
              "      <td>0.06</td>\n",
              "      <td>0.00</td>\n",
              "      <td>0.01</td>\n",
              "      <td>0.09</td>\n",
              "      <td>95.3</td>\n",
              "    </tr>\n",
              "    <tr>\n",
              "      <th>3</th>\n",
              "      <td>Academy For Allied Health Sciences</td>\n",
              "      <td>https://www.schooldigger.com/go/NJ/schools/180...</td>\n",
              "      <td>Union County Vocational-Technical School District</td>\n",
              "      <td>https://www.schooldigger.com/go/NJ/district/18...</td>\n",
              "      <td>1776 Raritan Road</td>\n",
              "      <td>Scotch Plains</td>\n",
              "      <td>https://www.schooldigger.com/go/NJ/city/Scotch...</td>\n",
              "      <td>7076</td>\n",
              "      <td>Union County</td>\n",
              "      <td>(908) 889-8288</td>\n",
              "      <td>9</td>\n",
              "      <td>12</td>\n",
              "      <td>No</td>\n",
              "      <td>No</td>\n",
              "      <td>(n/a)</td>\n",
              "      <td>No</td>\n",
              "      <td>308</td>\n",
              "      <td>13.6</td>\n",
              "      <td>22.5</td>\n",
              "      <td>0.13</td>\n",
              "      <td>0.13</td>\n",
              "      <td>0.0</td>\n",
              "      <td>0.27</td>\n",
              "      <td>0.22</td>\n",
              "      <td>0.00</td>\n",
              "      <td>0.01</td>\n",
              "      <td>0.36</td>\n",
              "      <td>95.1</td>\n",
              "    </tr>\n",
              "    <tr>\n",
              "      <th>4</th>\n",
              "      <td>Academy for Performing Arts</td>\n",
              "      <td>https://www.schooldigger.com/go/NJ/schools/107...</td>\n",
              "      <td>Morris County Vocational School District</td>\n",
              "      <td>https://www.schooldigger.com/go/NJ/district/10...</td>\n",
              "      <td>50 Knoll Drive</td>\n",
              "      <td>Rockaway</td>\n",
              "      <td>https://www.schooldigger.com/go/NJ/city/Rockaw...</td>\n",
              "      <td>7866</td>\n",
              "      <td>Morris County</td>\n",
              "      <td>(973) 664-2201</td>\n",
              "      <td>9</td>\n",
              "      <td>12</td>\n",
              "      <td>No</td>\n",
              "      <td>No</td>\n",
              "      <td>(n/a)</td>\n",
              "      <td>No</td>\n",
              "      <td>34</td>\n",
              "      <td>NaN</td>\n",
              "      <td>NaN</td>\n",
              "      <td>0.00</td>\n",
              "      <td>0.03</td>\n",
              "      <td>0.0</td>\n",
              "      <td>0.06</td>\n",
              "      <td>0.09</td>\n",
              "      <td>0.00</td>\n",
              "      <td>0.03</td>\n",
              "      <td>0.79</td>\n",
              "      <td>94.8</td>\n",
              "    </tr>\n",
              "  </tbody>\n",
              "</table>\n",
              "</div>"
            ],
            "text/plain": [
              "                                              School  ... Standard Score\n",
              "0                 Academy For Information Technology  ...           95.5\n",
              "1                    Union County Magnet High School  ...           95.5\n",
              "2  Middlesex County Vocational Academy Math Scien...  ...           95.3\n",
              "3                 Academy For Allied Health Sciences  ...           95.1\n",
              "4                        Academy for Performing Arts  ...           94.8\n",
              "\n",
              "[5 rows x 28 columns]"
            ]
          },
          "metadata": {},
          "execution_count": 2
        }
      ]
    },
    {
      "cell_type": "markdown",
      "metadata": {
        "id": "G2gvyJKrI_bb"
      },
      "source": [
        "- it's always a good idea to make a copy of the data so we dont mess up the original dataset"
      ]
    },
    {
      "cell_type": "code",
      "metadata": {
        "colab": {
          "base_uri": "https://localhost:8080/",
          "height": 677
        },
        "id": "6VglvwUODcFD",
        "outputId": "9c512d5b-d5e4-4a5e-d284-9c8c8d0add15"
      },
      "source": [
        "df1=df.copy()\n",
        "df1.head()"
      ],
      "execution_count": 3,
      "outputs": [
        {
          "output_type": "execute_result",
          "data": {
            "text/html": [
              "<div>\n",
              "<style scoped>\n",
              "    .dataframe tbody tr th:only-of-type {\n",
              "        vertical-align: middle;\n",
              "    }\n",
              "\n",
              "    .dataframe tbody tr th {\n",
              "        vertical-align: top;\n",
              "    }\n",
              "\n",
              "    .dataframe thead th {\n",
              "        text-align: right;\n",
              "    }\n",
              "</style>\n",
              "<table border=\"1\" class=\"dataframe\">\n",
              "  <thead>\n",
              "    <tr style=\"text-align: right;\">\n",
              "      <th></th>\n",
              "      <th>School</th>\n",
              "      <th>School URL</th>\n",
              "      <th>District</th>\n",
              "      <th>District URL</th>\n",
              "      <th>Address</th>\n",
              "      <th>City</th>\n",
              "      <th>City URL</th>\n",
              "      <th>Zip</th>\n",
              "      <th>County</th>\n",
              "      <th>Phone</th>\n",
              "      <th>Low Grade</th>\n",
              "      <th>High Grade</th>\n",
              "      <th>Is Title I</th>\n",
              "      <th>Is Charter</th>\n",
              "      <th>Is Magnet</th>\n",
              "      <th>Is Virtual</th>\n",
              "      <th>Number Students</th>\n",
              "      <th>Number Full-time Teachers</th>\n",
              "      <th>Student/Teacher Ratio</th>\n",
              "      <th>Percent Free/Disc Lunch</th>\n",
              "      <th>Percent African American</th>\n",
              "      <th>Percent American Indian</th>\n",
              "      <th>Percent Asian</th>\n",
              "      <th>Percent Hispanic</th>\n",
              "      <th>Percent Pacific Islander</th>\n",
              "      <th>Percent Two or More Races</th>\n",
              "      <th>Percent White</th>\n",
              "      <th>Standard Score</th>\n",
              "    </tr>\n",
              "  </thead>\n",
              "  <tbody>\n",
              "    <tr>\n",
              "      <th>0</th>\n",
              "      <td>Academy For Information Technology</td>\n",
              "      <td>https://www.schooldigger.com/go/NJ/schools/180...</td>\n",
              "      <td>Union County Vocational-Technical School District</td>\n",
              "      <td>https://www.schooldigger.com/go/NJ/district/18...</td>\n",
              "      <td>1776 Raritan Road</td>\n",
              "      <td>Scotch Plains</td>\n",
              "      <td>https://www.schooldigger.com/go/NJ/city/Scotch...</td>\n",
              "      <td>7076</td>\n",
              "      <td>Union County</td>\n",
              "      <td>(908) 889-8288</td>\n",
              "      <td>9</td>\n",
              "      <td>12</td>\n",
              "      <td>No</td>\n",
              "      <td>No</td>\n",
              "      <td>(n/a)</td>\n",
              "      <td>No</td>\n",
              "      <td>284</td>\n",
              "      <td>14.9</td>\n",
              "      <td>18.9</td>\n",
              "      <td>0.09</td>\n",
              "      <td>0.08</td>\n",
              "      <td>0.0</td>\n",
              "      <td>0.25</td>\n",
              "      <td>0.20</td>\n",
              "      <td>0.01</td>\n",
              "      <td>0.01</td>\n",
              "      <td>0.45</td>\n",
              "      <td>95.5</td>\n",
              "    </tr>\n",
              "    <tr>\n",
              "      <th>1</th>\n",
              "      <td>Union County Magnet High School</td>\n",
              "      <td>https://www.schooldigger.com/go/NJ/schools/180...</td>\n",
              "      <td>Union County Vocational-Technical School District</td>\n",
              "      <td>https://www.schooldigger.com/go/NJ/district/18...</td>\n",
              "      <td>1776 Raritan Road</td>\n",
              "      <td>Scotch Plains</td>\n",
              "      <td>https://www.schooldigger.com/go/NJ/city/Scotch...</td>\n",
              "      <td>7076</td>\n",
              "      <td>Union County</td>\n",
              "      <td>(908) 889-8288</td>\n",
              "      <td>9</td>\n",
              "      <td>12</td>\n",
              "      <td>No</td>\n",
              "      <td>No</td>\n",
              "      <td>(n/a)</td>\n",
              "      <td>No</td>\n",
              "      <td>303</td>\n",
              "      <td>13.4</td>\n",
              "      <td>22.5</td>\n",
              "      <td>0.11</td>\n",
              "      <td>0.08</td>\n",
              "      <td>0.0</td>\n",
              "      <td>0.35</td>\n",
              "      <td>0.16</td>\n",
              "      <td>0.00</td>\n",
              "      <td>0.01</td>\n",
              "      <td>0.40</td>\n",
              "      <td>95.5</td>\n",
              "    </tr>\n",
              "    <tr>\n",
              "      <th>2</th>\n",
              "      <td>Middlesex County Vocational Academy Math Scien...</td>\n",
              "      <td>https://www.schooldigger.com/go/NJ/schools/100...</td>\n",
              "      <td>Middlesex County Vocational and Technical Scho...</td>\n",
              "      <td>https://www.schooldigger.com/go/NJ/district/10...</td>\n",
              "      <td>100 Technology Drive</td>\n",
              "      <td>Edison</td>\n",
              "      <td>https://www.schooldigger.com/go/NJ/city/Edison...</td>\n",
              "      <td>8837</td>\n",
              "      <td>Middlesex County</td>\n",
              "      <td>(732) 452-2600</td>\n",
              "      <td>9</td>\n",
              "      <td>12</td>\n",
              "      <td>No</td>\n",
              "      <td>No</td>\n",
              "      <td>(n/a)</td>\n",
              "      <td>No</td>\n",
              "      <td>159</td>\n",
              "      <td>12.0</td>\n",
              "      <td>13.2</td>\n",
              "      <td>0.02</td>\n",
              "      <td>0.01</td>\n",
              "      <td>0.0</td>\n",
              "      <td>0.84</td>\n",
              "      <td>0.06</td>\n",
              "      <td>0.00</td>\n",
              "      <td>0.01</td>\n",
              "      <td>0.09</td>\n",
              "      <td>95.3</td>\n",
              "    </tr>\n",
              "    <tr>\n",
              "      <th>3</th>\n",
              "      <td>Academy For Allied Health Sciences</td>\n",
              "      <td>https://www.schooldigger.com/go/NJ/schools/180...</td>\n",
              "      <td>Union County Vocational-Technical School District</td>\n",
              "      <td>https://www.schooldigger.com/go/NJ/district/18...</td>\n",
              "      <td>1776 Raritan Road</td>\n",
              "      <td>Scotch Plains</td>\n",
              "      <td>https://www.schooldigger.com/go/NJ/city/Scotch...</td>\n",
              "      <td>7076</td>\n",
              "      <td>Union County</td>\n",
              "      <td>(908) 889-8288</td>\n",
              "      <td>9</td>\n",
              "      <td>12</td>\n",
              "      <td>No</td>\n",
              "      <td>No</td>\n",
              "      <td>(n/a)</td>\n",
              "      <td>No</td>\n",
              "      <td>308</td>\n",
              "      <td>13.6</td>\n",
              "      <td>22.5</td>\n",
              "      <td>0.13</td>\n",
              "      <td>0.13</td>\n",
              "      <td>0.0</td>\n",
              "      <td>0.27</td>\n",
              "      <td>0.22</td>\n",
              "      <td>0.00</td>\n",
              "      <td>0.01</td>\n",
              "      <td>0.36</td>\n",
              "      <td>95.1</td>\n",
              "    </tr>\n",
              "    <tr>\n",
              "      <th>4</th>\n",
              "      <td>Academy for Performing Arts</td>\n",
              "      <td>https://www.schooldigger.com/go/NJ/schools/107...</td>\n",
              "      <td>Morris County Vocational School District</td>\n",
              "      <td>https://www.schooldigger.com/go/NJ/district/10...</td>\n",
              "      <td>50 Knoll Drive</td>\n",
              "      <td>Rockaway</td>\n",
              "      <td>https://www.schooldigger.com/go/NJ/city/Rockaw...</td>\n",
              "      <td>7866</td>\n",
              "      <td>Morris County</td>\n",
              "      <td>(973) 664-2201</td>\n",
              "      <td>9</td>\n",
              "      <td>12</td>\n",
              "      <td>No</td>\n",
              "      <td>No</td>\n",
              "      <td>(n/a)</td>\n",
              "      <td>No</td>\n",
              "      <td>34</td>\n",
              "      <td>NaN</td>\n",
              "      <td>NaN</td>\n",
              "      <td>0.00</td>\n",
              "      <td>0.03</td>\n",
              "      <td>0.0</td>\n",
              "      <td>0.06</td>\n",
              "      <td>0.09</td>\n",
              "      <td>0.00</td>\n",
              "      <td>0.03</td>\n",
              "      <td>0.79</td>\n",
              "      <td>94.8</td>\n",
              "    </tr>\n",
              "  </tbody>\n",
              "</table>\n",
              "</div>"
            ],
            "text/plain": [
              "                                              School  ... Standard Score\n",
              "0                 Academy For Information Technology  ...           95.5\n",
              "1                    Union County Magnet High School  ...           95.5\n",
              "2  Middlesex County Vocational Academy Math Scien...  ...           95.3\n",
              "3                 Academy For Allied Health Sciences  ...           95.1\n",
              "4                        Academy for Performing Arts  ...           94.8\n",
              "\n",
              "[5 rows x 28 columns]"
            ]
          },
          "metadata": {},
          "execution_count": 3
        }
      ]
    },
    {
      "cell_type": "code",
      "metadata": {
        "colab": {
          "base_uri": "https://localhost:8080/"
        },
        "id": "yMtodaiZJVwb",
        "outputId": "6aa62147-de8c-491a-8040-1e8d5347f66c"
      },
      "source": [
        "df1.shape"
      ],
      "execution_count": 4,
      "outputs": [
        {
          "output_type": "execute_result",
          "data": {
            "text/plain": [
              "(416, 28)"
            ]
          },
          "metadata": {},
          "execution_count": 4
        }
      ]
    },
    {
      "cell_type": "markdown",
      "metadata": {
        "id": "V3T_hffXFTof"
      },
      "source": [
        "# Qualitative Data Analysis"
      ]
    },
    {
      "cell_type": "code",
      "metadata": {
        "colab": {
          "base_uri": "https://localhost:8080/",
          "height": 366
        },
        "id": "dzy-YiuF_NmJ",
        "outputId": "7b3e02f3-94e8-4efe-c45c-eff85ce12ed7"
      },
      "source": [
        "df1.describe()"
      ],
      "execution_count": 5,
      "outputs": [
        {
          "output_type": "execute_result",
          "data": {
            "text/html": [
              "<div>\n",
              "<style scoped>\n",
              "    .dataframe tbody tr th:only-of-type {\n",
              "        vertical-align: middle;\n",
              "    }\n",
              "\n",
              "    .dataframe tbody tr th {\n",
              "        vertical-align: top;\n",
              "    }\n",
              "\n",
              "    .dataframe thead th {\n",
              "        text-align: right;\n",
              "    }\n",
              "</style>\n",
              "<table border=\"1\" class=\"dataframe\">\n",
              "  <thead>\n",
              "    <tr style=\"text-align: right;\">\n",
              "      <th></th>\n",
              "      <th>Zip</th>\n",
              "      <th>High Grade</th>\n",
              "      <th>Number Students</th>\n",
              "      <th>Number Full-time Teachers</th>\n",
              "      <th>Student/Teacher Ratio</th>\n",
              "      <th>Percent Free/Disc Lunch</th>\n",
              "      <th>Percent African American</th>\n",
              "      <th>Percent American Indian</th>\n",
              "      <th>Percent Asian</th>\n",
              "      <th>Percent Hispanic</th>\n",
              "      <th>Percent Pacific Islander</th>\n",
              "      <th>Percent Two or More Races</th>\n",
              "      <th>Percent White</th>\n",
              "      <th>Standard Score</th>\n",
              "    </tr>\n",
              "  </thead>\n",
              "  <tbody>\n",
              "    <tr>\n",
              "      <th>count</th>\n",
              "      <td>416.000000</td>\n",
              "      <td>416.0</td>\n",
              "      <td>416.000000</td>\n",
              "      <td>407.000000</td>\n",
              "      <td>407.000000</td>\n",
              "      <td>415.000000</td>\n",
              "      <td>415.000000</td>\n",
              "      <td>415.000000</td>\n",
              "      <td>415.000000</td>\n",
              "      <td>415.000000</td>\n",
              "      <td>415.000000</td>\n",
              "      <td>415.000000</td>\n",
              "      <td>415.000000</td>\n",
              "      <td>416.000000</td>\n",
              "    </tr>\n",
              "    <tr>\n",
              "      <th>mean</th>\n",
              "      <td>7802.158654</td>\n",
              "      <td>12.0</td>\n",
              "      <td>1026.764423</td>\n",
              "      <td>84.509091</td>\n",
              "      <td>12.482801</td>\n",
              "      <td>0.345494</td>\n",
              "      <td>0.174458</td>\n",
              "      <td>0.000554</td>\n",
              "      <td>0.091855</td>\n",
              "      <td>0.258747</td>\n",
              "      <td>0.001566</td>\n",
              "      <td>0.014506</td>\n",
              "      <td>0.459614</td>\n",
              "      <td>44.177644</td>\n",
              "    </tr>\n",
              "    <tr>\n",
              "      <th>std</th>\n",
              "      <td>583.506867</td>\n",
              "      <td>0.0</td>\n",
              "      <td>671.737612</td>\n",
              "      <td>47.459116</td>\n",
              "      <td>5.019926</td>\n",
              "      <td>0.266592</td>\n",
              "      <td>0.216204</td>\n",
              "      <td>0.002291</td>\n",
              "      <td>0.131019</td>\n",
              "      <td>0.225501</td>\n",
              "      <td>0.005955</td>\n",
              "      <td>0.016321</td>\n",
              "      <td>0.304899</td>\n",
              "      <td>24.974358</td>\n",
              "    </tr>\n",
              "    <tr>\n",
              "      <th>min</th>\n",
              "      <td>7002.000000</td>\n",
              "      <td>12.0</td>\n",
              "      <td>0.000000</td>\n",
              "      <td>2.100000</td>\n",
              "      <td>0.300000</td>\n",
              "      <td>0.000000</td>\n",
              "      <td>0.000000</td>\n",
              "      <td>0.000000</td>\n",
              "      <td>0.000000</td>\n",
              "      <td>0.000000</td>\n",
              "      <td>0.000000</td>\n",
              "      <td>0.000000</td>\n",
              "      <td>0.000000</td>\n",
              "      <td>5.200000</td>\n",
              "    </tr>\n",
              "    <tr>\n",
              "      <th>25%</th>\n",
              "      <td>7278.500000</td>\n",
              "      <td>12.0</td>\n",
              "      <td>548.750000</td>\n",
              "      <td>49.350000</td>\n",
              "      <td>10.800000</td>\n",
              "      <td>0.110000</td>\n",
              "      <td>0.030000</td>\n",
              "      <td>0.000000</td>\n",
              "      <td>0.020000</td>\n",
              "      <td>0.085000</td>\n",
              "      <td>0.000000</td>\n",
              "      <td>0.000000</td>\n",
              "      <td>0.150000</td>\n",
              "      <td>22.450000</td>\n",
              "    </tr>\n",
              "    <tr>\n",
              "      <th>50%</th>\n",
              "      <td>7747.000000</td>\n",
              "      <td>12.0</td>\n",
              "      <td>909.000000</td>\n",
              "      <td>77.200000</td>\n",
              "      <td>12.000000</td>\n",
              "      <td>0.290000</td>\n",
              "      <td>0.090000</td>\n",
              "      <td>0.000000</td>\n",
              "      <td>0.040000</td>\n",
              "      <td>0.170000</td>\n",
              "      <td>0.000000</td>\n",
              "      <td>0.010000</td>\n",
              "      <td>0.510000</td>\n",
              "      <td>41.950000</td>\n",
              "    </tr>\n",
              "    <tr>\n",
              "      <th>75%</th>\n",
              "      <td>8105.000000</td>\n",
              "      <td>12.0</td>\n",
              "      <td>1324.250000</td>\n",
              "      <td>109.950000</td>\n",
              "      <td>13.200000</td>\n",
              "      <td>0.550000</td>\n",
              "      <td>0.225000</td>\n",
              "      <td>0.000000</td>\n",
              "      <td>0.110000</td>\n",
              "      <td>0.360000</td>\n",
              "      <td>0.000000</td>\n",
              "      <td>0.020000</td>\n",
              "      <td>0.750000</td>\n",
              "      <td>63.375000</td>\n",
              "    </tr>\n",
              "    <tr>\n",
              "      <th>max</th>\n",
              "      <td>8904.000000</td>\n",
              "      <td>12.0</td>\n",
              "      <td>5271.000000</td>\n",
              "      <td>344.800000</td>\n",
              "      <td>86.100000</td>\n",
              "      <td>1.000000</td>\n",
              "      <td>0.930000</td>\n",
              "      <td>0.010000</td>\n",
              "      <td>0.840000</td>\n",
              "      <td>0.960000</td>\n",
              "      <td>0.090000</td>\n",
              "      <td>0.100000</td>\n",
              "      <td>0.930000</td>\n",
              "      <td>95.500000</td>\n",
              "    </tr>\n",
              "  </tbody>\n",
              "</table>\n",
              "</div>"
            ],
            "text/plain": [
              "               Zip  High Grade  ...  Percent White  Standard Score\n",
              "count   416.000000       416.0  ...     415.000000      416.000000\n",
              "mean   7802.158654        12.0  ...       0.459614       44.177644\n",
              "std     583.506867         0.0  ...       0.304899       24.974358\n",
              "min    7002.000000        12.0  ...       0.000000        5.200000\n",
              "25%    7278.500000        12.0  ...       0.150000       22.450000\n",
              "50%    7747.000000        12.0  ...       0.510000       41.950000\n",
              "75%    8105.000000        12.0  ...       0.750000       63.375000\n",
              "max    8904.000000        12.0  ...       0.930000       95.500000\n",
              "\n",
              "[8 rows x 14 columns]"
            ]
          },
          "metadata": {},
          "execution_count": 5
        }
      ]
    },
    {
      "cell_type": "markdown",
      "metadata": {
        "id": "nUIcd6kZJQZz"
      },
      "source": [
        "- count reconfirms that there are very few missing data\n",
        "- mean indicates the average value of the features\n",
        "- 50% data indicates that most of the data is around the mean thus data is not skewed rather normal\n",
        "- So numeric values can be imputed usign ***mean/median**. Statistically it has been seen that if data is normally distributed then if you replace the data using mean or median then the prediction won't be impacted much\n",
        "- minimum and maximum values indicate that there are not lot of outliers"
      ]
    },
    {
      "cell_type": "markdown",
      "metadata": {
        "id": "2Jf0OXmtKdkQ"
      },
      "source": [
        "## Check the features names"
      ]
    },
    {
      "cell_type": "code",
      "metadata": {
        "colab": {
          "base_uri": "https://localhost:8080/"
        },
        "id": "J4PCOvACFNAu",
        "outputId": "da636064-0212-4cdd-904a-587fcf633857"
      },
      "source": [
        "df1.columns"
      ],
      "execution_count": 6,
      "outputs": [
        {
          "output_type": "execute_result",
          "data": {
            "text/plain": [
              "Index(['School', 'School URL', 'District', 'District URL', 'Address', 'City',\n",
              "       'City URL', 'Zip', 'County', 'Phone', 'Low Grade', 'High Grade',\n",
              "       'Is Title I', 'Is Charter', 'Is Magnet', 'Is Virtual',\n",
              "       'Number Students', 'Number Full-time Teachers', 'Student/Teacher Ratio',\n",
              "       'Percent Free/Disc Lunch', 'Percent African American',\n",
              "       'Percent American Indian', 'Percent Asian', 'Percent Hispanic',\n",
              "       'Percent Pacific Islander', 'Percent Two or More Races',\n",
              "       'Percent White', 'Standard Score'],\n",
              "      dtype='object')"
            ]
          },
          "metadata": {},
          "execution_count": 6
        }
      ]
    },
    {
      "cell_type": "markdown",
      "metadata": {
        "id": "YnVcpUOhKNDJ"
      },
      "source": [
        "## Noise Variable Removals\n",
        "- the variables that wont affect the predictions such as URL, Address etc.\n",
        "- we will keep zip since zip is different for different schools and zip may have a role to play while predicting scores"
      ]
    },
    {
      "cell_type": "code",
      "metadata": {
        "colab": {
          "base_uri": "https://localhost:8080/"
        },
        "id": "LCYyTgCKDlBC",
        "outputId": "3c5e9a61-4736-4276-8f0e-46306eb97a77"
      },
      "source": [
        "df1=df.drop(columns=['School','School URL','District URL','Address','City URL','Phone'],axis=1)\n",
        "df1.shape"
      ],
      "execution_count": 7,
      "outputs": [
        {
          "output_type": "execute_result",
          "data": {
            "text/plain": [
              "(416, 22)"
            ]
          },
          "metadata": {},
          "execution_count": 7
        }
      ]
    },
    {
      "cell_type": "markdown",
      "metadata": {
        "id": "0DBIzb38U78I"
      },
      "source": [
        "# Exploratory data analysis(EDA)"
      ]
    },
    {
      "cell_type": "markdown",
      "metadata": {
        "id": "rxEqe33LVMyv"
      },
      "source": [
        "- first we will use pandas profiling for EDA"
      ]
    },
    {
      "cell_type": "code",
      "metadata": {
        "colab": {
          "base_uri": "https://localhost:8080/"
        },
        "id": "AP63yo2pU84d",
        "outputId": "6d680929-d3fd-4dd9-9cbe-3ef94ec49ba1"
      },
      "source": [
        "\"\"\"!pip install pandas-profiling --upgrade\"\"\""
      ],
      "execution_count": 22,
      "outputs": [
        {
          "output_type": "stream",
          "name": "stdout",
          "text": [
            "Requirement already satisfied: pandas-profiling in /usr/local/lib/python3.7/dist-packages (3.1.0)\n",
            "Requirement already satisfied: numpy>=1.16.0 in /usr/local/lib/python3.7/dist-packages (from pandas-profiling) (1.19.5)\n",
            "Requirement already satisfied: matplotlib>=3.2.0 in /usr/local/lib/python3.7/dist-packages (from pandas-profiling) (3.2.2)\n",
            "Requirement already satisfied: jinja2>=2.11.1 in /usr/local/lib/python3.7/dist-packages (from pandas-profiling) (2.11.3)\n",
            "Requirement already satisfied: pandas!=1.0.0,!=1.0.1,!=1.0.2,!=1.1.0,>=0.25.3 in /usr/local/lib/python3.7/dist-packages (from pandas-profiling) (1.1.5)\n",
            "Requirement already satisfied: missingno>=0.4.2 in /usr/local/lib/python3.7/dist-packages (from pandas-profiling) (0.5.0)\n",
            "Requirement already satisfied: PyYAML>=5.0.0 in /usr/local/lib/python3.7/dist-packages (from pandas-profiling) (5.4.1)\n",
            "Requirement already satisfied: requests>=2.24.0 in /usr/local/lib/python3.7/dist-packages (from pandas-profiling) (2.26.0)\n",
            "Requirement already satisfied: pydantic>=1.8.1 in /usr/local/lib/python3.7/dist-packages (from pandas-profiling) (1.8.2)\n",
            "Requirement already satisfied: phik>=0.11.1 in /usr/local/lib/python3.7/dist-packages (from pandas-profiling) (0.12.0)\n",
            "Requirement already satisfied: htmlmin>=0.1.12 in /usr/local/lib/python3.7/dist-packages (from pandas-profiling) (0.1.12)\n",
            "Requirement already satisfied: seaborn>=0.10.1 in /usr/local/lib/python3.7/dist-packages (from pandas-profiling) (0.11.2)\n",
            "Requirement already satisfied: tqdm>=4.48.2 in /usr/local/lib/python3.7/dist-packages (from pandas-profiling) (4.62.3)\n",
            "Requirement already satisfied: multimethod>=1.4 in /usr/local/lib/python3.7/dist-packages (from pandas-profiling) (1.6)\n",
            "Requirement already satisfied: visions[type_image_path]==0.7.4 in /usr/local/lib/python3.7/dist-packages (from pandas-profiling) (0.7.4)\n",
            "Requirement already satisfied: joblib~=1.0.1 in /usr/local/lib/python3.7/dist-packages (from pandas-profiling) (1.0.1)\n",
            "Requirement already satisfied: tangled-up-in-unicode==0.1.0 in /usr/local/lib/python3.7/dist-packages (from pandas-profiling) (0.1.0)\n",
            "Requirement already satisfied: markupsafe~=2.0.1 in /usr/local/lib/python3.7/dist-packages (from pandas-profiling) (2.0.1)\n",
            "Requirement already satisfied: scipy>=1.4.1 in /usr/local/lib/python3.7/dist-packages (from pandas-profiling) (1.5.4)\n",
            "Requirement already satisfied: networkx>=2.4 in /usr/local/lib/python3.7/dist-packages (from visions[type_image_path]==0.7.4->pandas-profiling) (2.6.3)\n",
            "Requirement already satisfied: attrs>=19.3.0 in /usr/local/lib/python3.7/dist-packages (from visions[type_image_path]==0.7.4->pandas-profiling) (21.2.0)\n",
            "Requirement already satisfied: imagehash in /usr/local/lib/python3.7/dist-packages (from visions[type_image_path]==0.7.4->pandas-profiling) (4.2.1)\n",
            "Requirement already satisfied: Pillow in /usr/local/lib/python3.7/dist-packages (from visions[type_image_path]==0.7.4->pandas-profiling) (7.1.2)\n",
            "Requirement already satisfied: python-dateutil>=2.1 in /usr/local/lib/python3.7/dist-packages (from matplotlib>=3.2.0->pandas-profiling) (2.8.2)\n",
            "Requirement already satisfied: kiwisolver>=1.0.1 in /usr/local/lib/python3.7/dist-packages (from matplotlib>=3.2.0->pandas-profiling) (1.3.2)\n",
            "Requirement already satisfied: pyparsing!=2.0.4,!=2.1.2,!=2.1.6,>=2.0.1 in /usr/local/lib/python3.7/dist-packages (from matplotlib>=3.2.0->pandas-profiling) (2.4.7)\n",
            "Requirement already satisfied: cycler>=0.10 in /usr/local/lib/python3.7/dist-packages (from matplotlib>=3.2.0->pandas-profiling) (0.10.0)\n",
            "Requirement already satisfied: six in /usr/local/lib/python3.7/dist-packages (from cycler>=0.10->matplotlib>=3.2.0->pandas-profiling) (1.15.0)\n",
            "Requirement already satisfied: pytz>=2017.2 in /usr/local/lib/python3.7/dist-packages (from pandas!=1.0.0,!=1.0.1,!=1.0.2,!=1.1.0,>=0.25.3->pandas-profiling) (2018.9)\n",
            "Requirement already satisfied: typing-extensions>=3.7.4.3 in /usr/local/lib/python3.7/dist-packages (from pydantic>=1.8.1->pandas-profiling) (3.7.4.3)\n",
            "Requirement already satisfied: urllib3<1.27,>=1.21.1 in /usr/local/lib/python3.7/dist-packages (from requests>=2.24.0->pandas-profiling) (1.24.3)\n",
            "Requirement already satisfied: idna<4,>=2.5 in /usr/local/lib/python3.7/dist-packages (from requests>=2.24.0->pandas-profiling) (2.10)\n",
            "Requirement already satisfied: certifi>=2017.4.17 in /usr/local/lib/python3.7/dist-packages (from requests>=2.24.0->pandas-profiling) (2021.5.30)\n",
            "Requirement already satisfied: charset-normalizer~=2.0.0 in /usr/local/lib/python3.7/dist-packages (from requests>=2.24.0->pandas-profiling) (2.0.6)\n",
            "Requirement already satisfied: PyWavelets in /usr/local/lib/python3.7/dist-packages (from imagehash->visions[type_image_path]==0.7.4->pandas-profiling) (1.1.1)\n"
          ]
        }
      ]
    },
    {
      "cell_type": "code",
      "metadata": {
        "colab": {
          "base_uri": "https://localhost:8080/",
          "height": 145
        },
        "id": "7LO4F3ZZVWEj",
        "outputId": "d91df068-f0c3-4128-d97b-459b76509e05"
      },
      "source": [
        "from pandas_profiling import ProfileReport\n",
        "df_eda_report=ProfileReport(df1,minimal=True)\n",
        "df_eda_report.to_file(\"New Jersey High Schools EDA Report.jpeg\")"
      ],
      "execution_count": 25,
      "outputs": [
        {
          "output_type": "display_data",
          "data": {
            "application/vnd.jupyter.widget-view+json": {
              "model_id": "1710a36242b84d83b24934d8fe98cf20",
              "version_minor": 0,
              "version_major": 2
            },
            "text/plain": [
              "Summarize dataset:   0%|          | 0/5 [00:00<?, ?it/s]"
            ]
          },
          "metadata": {}
        },
        {
          "output_type": "display_data",
          "data": {
            "application/vnd.jupyter.widget-view+json": {
              "model_id": "e4c897899da844bcb6a59a9b6ed60f8a",
              "version_minor": 0,
              "version_major": 2
            },
            "text/plain": [
              "Generate report structure:   0%|          | 0/1 [00:00<?, ?it/s]"
            ]
          },
          "metadata": {}
        },
        {
          "output_type": "display_data",
          "data": {
            "application/vnd.jupyter.widget-view+json": {
              "model_id": "f9d77a187bb344538c08e4849ca08b15",
              "version_minor": 0,
              "version_major": 2
            },
            "text/plain": [
              "Render HTML:   0%|          | 0/1 [00:00<?, ?it/s]"
            ]
          },
          "metadata": {}
        },
        {
          "output_type": "display_data",
          "data": {
            "application/vnd.jupyter.widget-view+json": {
              "model_id": "0dca88bd66dc47429e5b6c3b7027be60",
              "version_minor": 0,
              "version_major": 2
            },
            "text/plain": [
              "Export report to file:   0%|          | 0/1 [00:00<?, ?it/s]"
            ]
          },
          "metadata": {}
        }
      ]
    },
    {
      "cell_type": "markdown",
      "metadata": {
        "id": "EJAJ2GmCWjLd"
      },
      "source": [
        "## Simple Overview report shows EDA\n",
        "- further detail will be presented using seperate power point slides or direct html file may be included for EDA![Pandas Profiling.PNG](data:image/png;base64,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)"
      ]
    },
    {
      "cell_type": "markdown",
      "metadata": {
        "id": "M-2UUHmaW_fS"
      },
      "source": [
        "## EDA using sweetviz"
      ]
    },
    {
      "cell_type": "code",
      "metadata": {
        "colab": {
          "base_uri": "https://localhost:8080/"
        },
        "id": "sc08zNtzW6gs",
        "outputId": "0f6d8d2d-abd3-4204-b13f-8cd031c8fb29"
      },
      "source": [
        "\"\"\"!pip install sweetviz\"\"\""
      ],
      "execution_count": 26,
      "outputs": [
        {
          "output_type": "stream",
          "name": "stdout",
          "text": [
            "Collecting sweetviz\n",
            "  Downloading sweetviz-2.1.3-py3-none-any.whl (15.1 MB)\n",
            "\u001b[K     |████████████████████████████████| 15.1 MB 191 kB/s \n",
            "\u001b[?25hRequirement already satisfied: jinja2>=2.11.1 in /usr/local/lib/python3.7/dist-packages (from sweetviz) (2.11.3)\n",
            "Requirement already satisfied: scipy>=1.3.2 in /usr/local/lib/python3.7/dist-packages (from sweetviz) (1.5.4)\n",
            "Requirement already satisfied: matplotlib>=3.1.3 in /usr/local/lib/python3.7/dist-packages (from sweetviz) (3.2.2)\n",
            "Requirement already satisfied: importlib-resources>=1.2.0 in /usr/local/lib/python3.7/dist-packages (from sweetviz) (5.2.2)\n",
            "Requirement already satisfied: pandas!=1.0.0,!=1.0.1,!=1.0.2,>=0.25.3 in /usr/local/lib/python3.7/dist-packages (from sweetviz) (1.1.5)\n",
            "Requirement already satisfied: numpy>=1.16.0 in /usr/local/lib/python3.7/dist-packages (from sweetviz) (1.19.5)\n",
            "Requirement already satisfied: tqdm>=4.43.0 in /usr/local/lib/python3.7/dist-packages (from sweetviz) (4.62.3)\n",
            "Requirement already satisfied: zipp>=3.1.0 in /usr/local/lib/python3.7/dist-packages (from importlib-resources>=1.2.0->sweetviz) (3.6.0)\n",
            "Requirement already satisfied: MarkupSafe>=0.23 in /usr/local/lib/python3.7/dist-packages (from jinja2>=2.11.1->sweetviz) (2.0.1)\n",
            "Requirement already satisfied: pyparsing!=2.0.4,!=2.1.2,!=2.1.6,>=2.0.1 in /usr/local/lib/python3.7/dist-packages (from matplotlib>=3.1.3->sweetviz) (2.4.7)\n",
            "Requirement already satisfied: kiwisolver>=1.0.1 in /usr/local/lib/python3.7/dist-packages (from matplotlib>=3.1.3->sweetviz) (1.3.2)\n",
            "Requirement already satisfied: python-dateutil>=2.1 in /usr/local/lib/python3.7/dist-packages (from matplotlib>=3.1.3->sweetviz) (2.8.2)\n",
            "Requirement already satisfied: cycler>=0.10 in /usr/local/lib/python3.7/dist-packages (from matplotlib>=3.1.3->sweetviz) (0.10.0)\n",
            "Requirement already satisfied: six in /usr/local/lib/python3.7/dist-packages (from cycler>=0.10->matplotlib>=3.1.3->sweetviz) (1.15.0)\n",
            "Requirement already satisfied: pytz>=2017.2 in /usr/local/lib/python3.7/dist-packages (from pandas!=1.0.0,!=1.0.1,!=1.0.2,>=0.25.3->sweetviz) (2018.9)\n",
            "Installing collected packages: sweetviz\n",
            "Successfully installed sweetviz-2.1.3\n"
          ]
        }
      ]
    },
    {
      "cell_type": "code",
      "metadata": {
        "colab": {
          "base_uri": "https://localhost:8080/",
          "height": 86
        },
        "id": "jwasNiK5XGZ3",
        "outputId": "5fd27d40-2d81-4b5b-aa14-c47e8be48d88"
      },
      "source": [
        "import sweetviz as sv\n",
        "sv_report=sv.analyze(df1)\n",
        "sv_report.show_html(\"New Jersey High Schools SweetViz Report.html\")"
      ],
      "execution_count": 27,
      "outputs": [
        {
          "output_type": "display_data",
          "data": {
            "application/vnd.jupyter.widget-view+json": {
              "model_id": "83fb8bbb8ffe41b7a4bb0991afb28a1b",
              "version_minor": 0,
              "version_major": 2
            },
            "text/plain": [
              "                                             |          | [  0%]   00:00 -> (? left)"
            ]
          },
          "metadata": {}
        },
        {
          "output_type": "stream",
          "name": "stdout",
          "text": [
            "Report New Jersey High Schools SweetViz Report.html was generated! NOTEBOOK/COLAB USERS: the web browser MAY not pop up, regardless, the report IS saved in your notebook/colab files.\n"
          ]
        }
      ]
    },
    {
      "cell_type": "markdown",
      "metadata": {
        "id": "KKSwGT6CXnc6"
      },
      "source": [
        "![SweetViz.PNG](data:image/png;base64,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)"
      ]
    },
    {
      "cell_type": "markdown",
      "metadata": {
        "id": "mJmUbKcaXp3g"
      },
      "source": [
        "- Correlation between Percent free/disc lunch and Score show that there is a strong negative correlation which means if you provide more free lunch there will be a decrese in score\n",
        "- we can provide a detail report of EDA using further power point slides of in a seperate notebook"
      ]
    },
    {
      "cell_type": "markdown",
      "metadata": {
        "id": "mRfdkCqvNQmr"
      },
      "source": [
        "# Quantitative analysis"
      ]
    },
    {
      "cell_type": "markdown",
      "metadata": {
        "id": "un95pQHALCSH"
      },
      "source": [
        "## Check the missing values"
      ]
    },
    {
      "cell_type": "code",
      "metadata": {
        "colab": {
          "base_uri": "https://localhost:8080/"
        },
        "id": "Q593tmX0_GEN",
        "outputId": "9f63d37e-f05f-4692-8ed0-e877a39cd81f"
      },
      "source": [
        "df1.isnull().sum()"
      ],
      "execution_count": 8,
      "outputs": [
        {
          "output_type": "execute_result",
          "data": {
            "text/plain": [
              "District                     0\n",
              "City                         0\n",
              "Zip                          0\n",
              "County                       0\n",
              "Low Grade                    0\n",
              "High Grade                   0\n",
              "Is Title I                   0\n",
              "Is Charter                   0\n",
              "Is Magnet                    0\n",
              "Is Virtual                   0\n",
              "Number Students              0\n",
              "Number Full-time Teachers    9\n",
              "Student/Teacher Ratio        9\n",
              "Percent Free/Disc Lunch      1\n",
              "Percent African American     1\n",
              "Percent American Indian      1\n",
              "Percent Asian                1\n",
              "Percent Hispanic             1\n",
              "Percent Pacific Islander     1\n",
              "Percent Two or More Races    1\n",
              "Percent White                1\n",
              "Standard Score               0\n",
              "dtype: int64"
            ]
          },
          "metadata": {},
          "execution_count": 8
        }
      ]
    },
    {
      "cell_type": "markdown",
      "metadata": {
        "id": "gnHq8U12Ikdh"
      },
      "source": [
        "- the missing values are less than 20%?: yes. \n",
        "- So data imputation is feasible\n",
        "- But very few data is missing thus no need to worry about for this particular dataset"
      ]
    },
    {
      "cell_type": "markdown",
      "metadata": {
        "id": "c16QA-XELG2E"
      },
      "source": [
        "## Check the feature types"
      ]
    },
    {
      "cell_type": "code",
      "metadata": {
        "colab": {
          "base_uri": "https://localhost:8080/"
        },
        "id": "DzAbyIV5_ekg",
        "outputId": "4ddfd139-79da-472c-bb15-87feea9923dc"
      },
      "source": [
        "df1.dtypes"
      ],
      "execution_count": 9,
      "outputs": [
        {
          "output_type": "execute_result",
          "data": {
            "text/plain": [
              "District                      object\n",
              "City                          object\n",
              "Zip                            int64\n",
              "County                        object\n",
              "Low Grade                     object\n",
              "High Grade                     int64\n",
              "Is Title I                    object\n",
              "Is Charter                    object\n",
              "Is Magnet                     object\n",
              "Is Virtual                    object\n",
              "Number Students                int64\n",
              "Number Full-time Teachers    float64\n",
              "Student/Teacher Ratio        float64\n",
              "Percent Free/Disc Lunch      float64\n",
              "Percent African American     float64\n",
              "Percent American Indian      float64\n",
              "Percent Asian                float64\n",
              "Percent Hispanic             float64\n",
              "Percent Pacific Islander     float64\n",
              "Percent Two or More Races    float64\n",
              "Percent White                float64\n",
              "Standard Score               float64\n",
              "dtype: object"
            ]
          },
          "metadata": {},
          "execution_count": 9
        }
      ]
    },
    {
      "cell_type": "markdown",
      "metadata": {
        "id": "rTtyz78tLk03"
      },
      "source": [
        "- mostly are numeric values\n",
        "- let's seperate the categorical values for future implementation"
      ]
    },
    {
      "cell_type": "code",
      "metadata": {
        "colab": {
          "base_uri": "https://localhost:8080/"
        },
        "id": "YKIaBUV5L9hJ",
        "outputId": "64a1dac5-d0aa-4975-9951-4c757d59323e"
      },
      "source": [
        "df1.columns"
      ],
      "execution_count": 10,
      "outputs": [
        {
          "output_type": "execute_result",
          "data": {
            "text/plain": [
              "Index(['District', 'City', 'Zip', 'County', 'Low Grade', 'High Grade',\n",
              "       'Is Title I', 'Is Charter', 'Is Magnet', 'Is Virtual',\n",
              "       'Number Students', 'Number Full-time Teachers', 'Student/Teacher Ratio',\n",
              "       'Percent Free/Disc Lunch', 'Percent African American',\n",
              "       'Percent American Indian', 'Percent Asian', 'Percent Hispanic',\n",
              "       'Percent Pacific Islander', 'Percent Two or More Races',\n",
              "       'Percent White', 'Standard Score'],\n",
              "      dtype='object')"
            ]
          },
          "metadata": {},
          "execution_count": 10
        }
      ]
    },
    {
      "cell_type": "code",
      "metadata": {
        "id": "ozOv9kQnMBJ6"
      },
      "source": [
        "cat_cols=['District', \n",
        "          'City', \n",
        "          'Zip', \n",
        "          'County', \n",
        "          'Low Grade', \n",
        "          'High Grade',\n",
        "          'Is Title I', \n",
        "          'Is Charter', \n",
        "          'Is Magnet', \n",
        "          'Is Virtual']"
      ],
      "execution_count": 11,
      "outputs": []
    },
    {
      "cell_type": "markdown",
      "metadata": {
        "id": "KIX7Kk3eNbsM"
      },
      "source": [
        "## Predictive modeling"
      ]
    },
    {
      "cell_type": "code",
      "metadata": {
        "colab": {
          "base_uri": "https://localhost:8080/",
          "height": 38
        },
        "id": "HVihTqtONjPS",
        "outputId": "c80d1ef3-af3f-44ae-eac9-eda7d704f4a4"
      },
      "source": [
        "# Doing Auto ML with PyCaret\n",
        "\"\"\"!pip install pycaret --upgrade\"\"\""
      ],
      "execution_count": 12,
      "outputs": [
        {
          "output_type": "execute_result",
          "data": {
            "application/vnd.google.colaboratory.intrinsic+json": {
              "type": "string"
            },
            "text/plain": [
              "'!pip install pycaret --upgrade'"
            ]
          },
          "metadata": {},
          "execution_count": 12
        }
      ]
    },
    {
      "cell_type": "code",
      "metadata": {
        "id": "UnmyfeKHM6F1"
      },
      "source": [
        "from pycaret.regression import *"
      ],
      "execution_count": 13,
      "outputs": []
    },
    {
      "cell_type": "code",
      "metadata": {
        "colab": {
          "base_uri": "https://localhost:8080/",
          "height": 1000
        },
        "id": "EeLf_gKaOCvr",
        "outputId": "c46a09bc-f405-4800-b1b1-a117faf4b75a"
      },
      "source": [
        "regression_model_setup = setup(df1,  target = 'Standard Score', \n",
        "                               categorical_features= cat_cols,\n",
        "                               train_size = 0.7)"
      ],
      "execution_count": 14,
      "outputs": [
        {
          "output_type": "display_data",
          "data": {
            "text/html": [
              "<div>\n",
              "<style scoped>\n",
              "    .dataframe tbody tr th:only-of-type {\n",
              "        vertical-align: middle;\n",
              "    }\n",
              "\n",
              "    .dataframe tbody tr th {\n",
              "        vertical-align: top;\n",
              "    }\n",
              "\n",
              "    .dataframe thead th {\n",
              "        text-align: right;\n",
              "    }\n",
              "</style>\n",
              "<table border=\"1\" class=\"dataframe\">\n",
              "  <thead>\n",
              "    <tr style=\"text-align: right;\">\n",
              "      <th></th>\n",
              "      <th>Description</th>\n",
              "      <th>Value</th>\n",
              "    </tr>\n",
              "  </thead>\n",
              "  <tbody>\n",
              "    <tr>\n",
              "      <th>0</th>\n",
              "      <td>session_id</td>\n",
              "      <td>6297</td>\n",
              "    </tr>\n",
              "    <tr>\n",
              "      <th>1</th>\n",
              "      <td>Target</td>\n",
              "      <td>Standard Score</td>\n",
              "    </tr>\n",
              "    <tr>\n",
              "      <th>2</th>\n",
              "      <td>Original Data</td>\n",
              "      <td>(416, 22)</td>\n",
              "    </tr>\n",
              "    <tr>\n",
              "      <th>3</th>\n",
              "      <td>Missing Values</td>\n",
              "      <td>True</td>\n",
              "    </tr>\n",
              "    <tr>\n",
              "      <th>4</th>\n",
              "      <td>Numeric Features</td>\n",
              "      <td>10</td>\n",
              "    </tr>\n",
              "    <tr>\n",
              "      <th>5</th>\n",
              "      <td>Categorical Features</td>\n",
              "      <td>11</td>\n",
              "    </tr>\n",
              "    <tr>\n",
              "      <th>6</th>\n",
              "      <td>Ordinal Features</td>\n",
              "      <td>False</td>\n",
              "    </tr>\n",
              "    <tr>\n",
              "      <th>7</th>\n",
              "      <td>High Cardinality Features</td>\n",
              "      <td>False</td>\n",
              "    </tr>\n",
              "    <tr>\n",
              "      <th>8</th>\n",
              "      <td>High Cardinality Method</td>\n",
              "      <td>None</td>\n",
              "    </tr>\n",
              "    <tr>\n",
              "      <th>9</th>\n",
              "      <td>Transformed Train Set</td>\n",
              "      <td>(291, 324)</td>\n",
              "    </tr>\n",
              "    <tr>\n",
              "      <th>10</th>\n",
              "      <td>Transformed Test Set</td>\n",
              "      <td>(125, 324)</td>\n",
              "    </tr>\n",
              "    <tr>\n",
              "      <th>11</th>\n",
              "      <td>Shuffle Train-Test</td>\n",
              "      <td>True</td>\n",
              "    </tr>\n",
              "    <tr>\n",
              "      <th>12</th>\n",
              "      <td>Stratify Train-Test</td>\n",
              "      <td>False</td>\n",
              "    </tr>\n",
              "    <tr>\n",
              "      <th>13</th>\n",
              "      <td>Fold Generator</td>\n",
              "      <td>KFold</td>\n",
              "    </tr>\n",
              "    <tr>\n",
              "      <th>14</th>\n",
              "      <td>Fold Number</td>\n",
              "      <td>10</td>\n",
              "    </tr>\n",
              "    <tr>\n",
              "      <th>15</th>\n",
              "      <td>CPU Jobs</td>\n",
              "      <td>-1</td>\n",
              "    </tr>\n",
              "    <tr>\n",
              "      <th>16</th>\n",
              "      <td>Use GPU</td>\n",
              "      <td>False</td>\n",
              "    </tr>\n",
              "    <tr>\n",
              "      <th>17</th>\n",
              "      <td>Log Experiment</td>\n",
              "      <td>False</td>\n",
              "    </tr>\n",
              "    <tr>\n",
              "      <th>18</th>\n",
              "      <td>Experiment Name</td>\n",
              "      <td>reg-default-name</td>\n",
              "    </tr>\n",
              "    <tr>\n",
              "      <th>19</th>\n",
              "      <td>USI</td>\n",
              "      <td>ad6c</td>\n",
              "    </tr>\n",
              "    <tr>\n",
              "      <th>20</th>\n",
              "      <td>Imputation Type</td>\n",
              "      <td>simple</td>\n",
              "    </tr>\n",
              "    <tr>\n",
              "      <th>21</th>\n",
              "      <td>Iterative Imputation Iteration</td>\n",
              "      <td>None</td>\n",
              "    </tr>\n",
              "    <tr>\n",
              "      <th>22</th>\n",
              "      <td>Numeric Imputer</td>\n",
              "      <td>mean</td>\n",
              "    </tr>\n",
              "    <tr>\n",
              "      <th>23</th>\n",
              "      <td>Iterative Imputation Numeric Model</td>\n",
              "      <td>None</td>\n",
              "    </tr>\n",
              "    <tr>\n",
              "      <th>24</th>\n",
              "      <td>Categorical Imputer</td>\n",
              "      <td>constant</td>\n",
              "    </tr>\n",
              "    <tr>\n",
              "      <th>25</th>\n",
              "      <td>Iterative Imputation Categorical Model</td>\n",
              "      <td>None</td>\n",
              "    </tr>\n",
              "    <tr>\n",
              "      <th>26</th>\n",
              "      <td>Unknown Categoricals Handling</td>\n",
              "      <td>least_frequent</td>\n",
              "    </tr>\n",
              "    <tr>\n",
              "      <th>27</th>\n",
              "      <td>Normalize</td>\n",
              "      <td>False</td>\n",
              "    </tr>\n",
              "    <tr>\n",
              "      <th>28</th>\n",
              "      <td>Normalize Method</td>\n",
              "      <td>None</td>\n",
              "    </tr>\n",
              "    <tr>\n",
              "      <th>29</th>\n",
              "      <td>Transformation</td>\n",
              "      <td>False</td>\n",
              "    </tr>\n",
              "    <tr>\n",
              "      <th>30</th>\n",
              "      <td>Transformation Method</td>\n",
              "      <td>None</td>\n",
              "    </tr>\n",
              "    <tr>\n",
              "      <th>31</th>\n",
              "      <td>PCA</td>\n",
              "      <td>False</td>\n",
              "    </tr>\n",
              "    <tr>\n",
              "      <th>32</th>\n",
              "      <td>PCA Method</td>\n",
              "      <td>None</td>\n",
              "    </tr>\n",
              "    <tr>\n",
              "      <th>33</th>\n",
              "      <td>PCA Components</td>\n",
              "      <td>None</td>\n",
              "    </tr>\n",
              "    <tr>\n",
              "      <th>34</th>\n",
              "      <td>Ignore Low Variance</td>\n",
              "      <td>False</td>\n",
              "    </tr>\n",
              "    <tr>\n",
              "      <th>35</th>\n",
              "      <td>Combine Rare Levels</td>\n",
              "      <td>False</td>\n",
              "    </tr>\n",
              "    <tr>\n",
              "      <th>36</th>\n",
              "      <td>Rare Level Threshold</td>\n",
              "      <td>None</td>\n",
              "    </tr>\n",
              "    <tr>\n",
              "      <th>37</th>\n",
              "      <td>Numeric Binning</td>\n",
              "      <td>False</td>\n",
              "    </tr>\n",
              "    <tr>\n",
              "      <th>38</th>\n",
              "      <td>Remove Outliers</td>\n",
              "      <td>False</td>\n",
              "    </tr>\n",
              "    <tr>\n",
              "      <th>39</th>\n",
              "      <td>Outliers Threshold</td>\n",
              "      <td>None</td>\n",
              "    </tr>\n",
              "    <tr>\n",
              "      <th>40</th>\n",
              "      <td>Remove Multicollinearity</td>\n",
              "      <td>False</td>\n",
              "    </tr>\n",
              "    <tr>\n",
              "      <th>41</th>\n",
              "      <td>Multicollinearity Threshold</td>\n",
              "      <td>None</td>\n",
              "    </tr>\n",
              "    <tr>\n",
              "      <th>42</th>\n",
              "      <td>Remove Perfect Collinearity</td>\n",
              "      <td>True</td>\n",
              "    </tr>\n",
              "    <tr>\n",
              "      <th>43</th>\n",
              "      <td>Clustering</td>\n",
              "      <td>False</td>\n",
              "    </tr>\n",
              "    <tr>\n",
              "      <th>44</th>\n",
              "      <td>Clustering Iteration</td>\n",
              "      <td>None</td>\n",
              "    </tr>\n",
              "    <tr>\n",
              "      <th>45</th>\n",
              "      <td>Polynomial Features</td>\n",
              "      <td>False</td>\n",
              "    </tr>\n",
              "    <tr>\n",
              "      <th>46</th>\n",
              "      <td>Polynomial Degree</td>\n",
              "      <td>None</td>\n",
              "    </tr>\n",
              "    <tr>\n",
              "      <th>47</th>\n",
              "      <td>Trignometry Features</td>\n",
              "      <td>False</td>\n",
              "    </tr>\n",
              "    <tr>\n",
              "      <th>48</th>\n",
              "      <td>Polynomial Threshold</td>\n",
              "      <td>None</td>\n",
              "    </tr>\n",
              "    <tr>\n",
              "      <th>49</th>\n",
              "      <td>Group Features</td>\n",
              "      <td>False</td>\n",
              "    </tr>\n",
              "    <tr>\n",
              "      <th>50</th>\n",
              "      <td>Feature Selection</td>\n",
              "      <td>False</td>\n",
              "    </tr>\n",
              "    <tr>\n",
              "      <th>51</th>\n",
              "      <td>Feature Selection Method</td>\n",
              "      <td>classic</td>\n",
              "    </tr>\n",
              "    <tr>\n",
              "      <th>52</th>\n",
              "      <td>Features Selection Threshold</td>\n",
              "      <td>None</td>\n",
              "    </tr>\n",
              "    <tr>\n",
              "      <th>53</th>\n",
              "      <td>Feature Interaction</td>\n",
              "      <td>False</td>\n",
              "    </tr>\n",
              "    <tr>\n",
              "      <th>54</th>\n",
              "      <td>Feature Ratio</td>\n",
              "      <td>False</td>\n",
              "    </tr>\n",
              "    <tr>\n",
              "      <th>55</th>\n",
              "      <td>Interaction Threshold</td>\n",
              "      <td>None</td>\n",
              "    </tr>\n",
              "    <tr>\n",
              "      <th>56</th>\n",
              "      <td>Transform Target</td>\n",
              "      <td>False</td>\n",
              "    </tr>\n",
              "    <tr>\n",
              "      <th>57</th>\n",
              "      <td>Transform Target Method</td>\n",
              "      <td>box-cox</td>\n",
              "    </tr>\n",
              "  </tbody>\n",
              "</table>\n",
              "</div>"
            ],
            "text/plain": [
              "                               Description             Value\n",
              "0                               session_id              6297\n",
              "1                                   Target    Standard Score\n",
              "2                            Original Data         (416, 22)\n",
              "3                           Missing Values              True\n",
              "4                         Numeric Features                10\n",
              "5                     Categorical Features                11\n",
              "6                         Ordinal Features             False\n",
              "7                High Cardinality Features             False\n",
              "8                  High Cardinality Method              None\n",
              "9                    Transformed Train Set        (291, 324)\n",
              "10                    Transformed Test Set        (125, 324)\n",
              "11                      Shuffle Train-Test              True\n",
              "12                     Stratify Train-Test             False\n",
              "13                          Fold Generator             KFold\n",
              "14                             Fold Number                10\n",
              "15                                CPU Jobs                -1\n",
              "16                                 Use GPU             False\n",
              "17                          Log Experiment             False\n",
              "18                         Experiment Name  reg-default-name\n",
              "19                                     USI              ad6c\n",
              "20                         Imputation Type            simple\n",
              "21          Iterative Imputation Iteration              None\n",
              "22                         Numeric Imputer              mean\n",
              "23      Iterative Imputation Numeric Model              None\n",
              "24                     Categorical Imputer          constant\n",
              "25  Iterative Imputation Categorical Model              None\n",
              "26           Unknown Categoricals Handling    least_frequent\n",
              "27                               Normalize             False\n",
              "28                        Normalize Method              None\n",
              "29                          Transformation             False\n",
              "30                   Transformation Method              None\n",
              "31                                     PCA             False\n",
              "32                              PCA Method              None\n",
              "33                          PCA Components              None\n",
              "34                     Ignore Low Variance             False\n",
              "35                     Combine Rare Levels             False\n",
              "36                    Rare Level Threshold              None\n",
              "37                         Numeric Binning             False\n",
              "38                         Remove Outliers             False\n",
              "39                      Outliers Threshold              None\n",
              "40                Remove Multicollinearity             False\n",
              "41             Multicollinearity Threshold              None\n",
              "42             Remove Perfect Collinearity              True\n",
              "43                              Clustering             False\n",
              "44                    Clustering Iteration              None\n",
              "45                     Polynomial Features             False\n",
              "46                       Polynomial Degree              None\n",
              "47                    Trignometry Features             False\n",
              "48                    Polynomial Threshold              None\n",
              "49                          Group Features             False\n",
              "50                       Feature Selection             False\n",
              "51                Feature Selection Method           classic\n",
              "52            Features Selection Threshold              None\n",
              "53                     Feature Interaction             False\n",
              "54                           Feature Ratio             False\n",
              "55                   Interaction Threshold              None\n",
              "56                        Transform Target             False\n",
              "57                 Transform Target Method           box-cox"
            ]
          },
          "metadata": {}
        }
      ]
    },
    {
      "cell_type": "markdown",
      "metadata": {
        "id": "lbsiBoxaLJrm"
      },
      "source": [
        "## Running the multiple algorithms"
      ]
    },
    {
      "cell_type": "code",
      "metadata": {
        "colab": {
          "base_uri": "https://localhost:8080/",
          "height": 659
        },
        "id": "9Dv_DkaDOPLP",
        "outputId": "a4feea6a-5254-4d23-81c0-a89401ad37e6"
      },
      "source": [
        "compare_models()"
      ],
      "execution_count": 15,
      "outputs": [
        {
          "output_type": "display_data",
          "data": {
            "text/html": [
              "<div>\n",
              "<style scoped>\n",
              "    .dataframe tbody tr th:only-of-type {\n",
              "        vertical-align: middle;\n",
              "    }\n",
              "\n",
              "    .dataframe tbody tr th {\n",
              "        vertical-align: top;\n",
              "    }\n",
              "\n",
              "    .dataframe thead th {\n",
              "        text-align: right;\n",
              "    }\n",
              "</style>\n",
              "<table border=\"1\" class=\"dataframe\">\n",
              "  <thead>\n",
              "    <tr style=\"text-align: right;\">\n",
              "      <th></th>\n",
              "      <th>Model</th>\n",
              "      <th>MAE</th>\n",
              "      <th>MSE</th>\n",
              "      <th>RMSE</th>\n",
              "      <th>R2</th>\n",
              "      <th>RMSLE</th>\n",
              "      <th>MAPE</th>\n",
              "      <th>TT (Sec)</th>\n",
              "    </tr>\n",
              "  </thead>\n",
              "  <tbody>\n",
              "    <tr>\n",
              "      <th>rf</th>\n",
              "      <td>Random Forest Regressor</td>\n",
              "      <td>9.3050</td>\n",
              "      <td>157.7615</td>\n",
              "      <td>12.3133</td>\n",
              "      <td>0.7275</td>\n",
              "      <td>0.3838</td>\n",
              "      <td>0.3445</td>\n",
              "      <td>0.609</td>\n",
              "    </tr>\n",
              "    <tr>\n",
              "      <th>gbr</th>\n",
              "      <td>Gradient Boosting Regressor</td>\n",
              "      <td>9.5942</td>\n",
              "      <td>164.4159</td>\n",
              "      <td>12.5955</td>\n",
              "      <td>0.7149</td>\n",
              "      <td>0.3983</td>\n",
              "      <td>0.3631</td>\n",
              "      <td>0.159</td>\n",
              "    </tr>\n",
              "    <tr>\n",
              "      <th>et</th>\n",
              "      <td>Extra Trees Regressor</td>\n",
              "      <td>9.5791</td>\n",
              "      <td>171.5968</td>\n",
              "      <td>12.8106</td>\n",
              "      <td>0.7038</td>\n",
              "      <td>0.4056</td>\n",
              "      <td>0.3689</td>\n",
              "      <td>0.625</td>\n",
              "    </tr>\n",
              "    <tr>\n",
              "      <th>lightgbm</th>\n",
              "      <td>Light Gradient Boosting Machine</td>\n",
              "      <td>10.3123</td>\n",
              "      <td>192.7276</td>\n",
              "      <td>13.7413</td>\n",
              "      <td>0.6701</td>\n",
              "      <td>0.4276</td>\n",
              "      <td>0.3848</td>\n",
              "      <td>0.088</td>\n",
              "    </tr>\n",
              "    <tr>\n",
              "      <th>ada</th>\n",
              "      <td>AdaBoost Regressor</td>\n",
              "      <td>11.3888</td>\n",
              "      <td>195.6854</td>\n",
              "      <td>13.9054</td>\n",
              "      <td>0.6632</td>\n",
              "      <td>0.4499</td>\n",
              "      <td>0.4757</td>\n",
              "      <td>0.131</td>\n",
              "    </tr>\n",
              "    <tr>\n",
              "      <th>br</th>\n",
              "      <td>Bayesian Ridge</td>\n",
              "      <td>11.3012</td>\n",
              "      <td>223.5323</td>\n",
              "      <td>14.8568</td>\n",
              "      <td>0.6142</td>\n",
              "      <td>0.4592</td>\n",
              "      <td>0.4332</td>\n",
              "      <td>0.101</td>\n",
              "    </tr>\n",
              "    <tr>\n",
              "      <th>omp</th>\n",
              "      <td>Orthogonal Matching Pursuit</td>\n",
              "      <td>11.9327</td>\n",
              "      <td>251.3194</td>\n",
              "      <td>15.6125</td>\n",
              "      <td>0.5663</td>\n",
              "      <td>0.5316</td>\n",
              "      <td>0.4506</td>\n",
              "      <td>0.020</td>\n",
              "    </tr>\n",
              "    <tr>\n",
              "      <th>dt</th>\n",
              "      <td>Decision Tree Regressor</td>\n",
              "      <td>12.0737</td>\n",
              "      <td>278.0188</td>\n",
              "      <td>16.3805</td>\n",
              "      <td>0.5231</td>\n",
              "      <td>0.5081</td>\n",
              "      <td>0.4654</td>\n",
              "      <td>0.024</td>\n",
              "    </tr>\n",
              "    <tr>\n",
              "      <th>huber</th>\n",
              "      <td>Huber Regressor</td>\n",
              "      <td>12.7978</td>\n",
              "      <td>306.2467</td>\n",
              "      <td>17.3196</td>\n",
              "      <td>0.4727</td>\n",
              "      <td>0.5159</td>\n",
              "      <td>0.4398</td>\n",
              "      <td>0.093</td>\n",
              "    </tr>\n",
              "    <tr>\n",
              "      <th>lasso</th>\n",
              "      <td>Lasso Regression</td>\n",
              "      <td>14.0109</td>\n",
              "      <td>317.0827</td>\n",
              "      <td>17.6936</td>\n",
              "      <td>0.4557</td>\n",
              "      <td>0.5070</td>\n",
              "      <td>0.5433</td>\n",
              "      <td>0.021</td>\n",
              "    </tr>\n",
              "    <tr>\n",
              "      <th>ridge</th>\n",
              "      <td>Ridge Regression</td>\n",
              "      <td>14.7068</td>\n",
              "      <td>380.7540</td>\n",
              "      <td>19.3794</td>\n",
              "      <td>0.3421</td>\n",
              "      <td>0.5776</td>\n",
              "      <td>0.5499</td>\n",
              "      <td>0.022</td>\n",
              "    </tr>\n",
              "    <tr>\n",
              "      <th>en</th>\n",
              "      <td>Elastic Net</td>\n",
              "      <td>18.5690</td>\n",
              "      <td>487.7375</td>\n",
              "      <td>22.0107</td>\n",
              "      <td>0.1700</td>\n",
              "      <td>0.6234</td>\n",
              "      <td>0.7743</td>\n",
              "      <td>0.020</td>\n",
              "    </tr>\n",
              "    <tr>\n",
              "      <th>llar</th>\n",
              "      <td>Lasso Least Angle Regression</td>\n",
              "      <td>20.2376</td>\n",
              "      <td>567.2816</td>\n",
              "      <td>23.7649</td>\n",
              "      <td>0.0363</td>\n",
              "      <td>0.6720</td>\n",
              "      <td>0.8662</td>\n",
              "      <td>0.255</td>\n",
              "    </tr>\n",
              "    <tr>\n",
              "      <th>knn</th>\n",
              "      <td>K Neighbors Regressor</td>\n",
              "      <td>21.0065</td>\n",
              "      <td>685.4255</td>\n",
              "      <td>26.0742</td>\n",
              "      <td>-0.1653</td>\n",
              "      <td>0.7276</td>\n",
              "      <td>0.8897</td>\n",
              "      <td>0.068</td>\n",
              "    </tr>\n",
              "    <tr>\n",
              "      <th>par</th>\n",
              "      <td>Passive Aggressive Regressor</td>\n",
              "      <td>23.3672</td>\n",
              "      <td>890.7967</td>\n",
              "      <td>29.4670</td>\n",
              "      <td>-0.5252</td>\n",
              "      <td>0.7359</td>\n",
              "      <td>0.8469</td>\n",
              "      <td>0.022</td>\n",
              "    </tr>\n",
              "    <tr>\n",
              "      <th>lr</th>\n",
              "      <td>Linear Regression</td>\n",
              "      <td>26.3354</td>\n",
              "      <td>2004.6965</td>\n",
              "      <td>40.8384</td>\n",
              "      <td>-2.4546</td>\n",
              "      <td>0.7963</td>\n",
              "      <td>1.0130</td>\n",
              "      <td>0.285</td>\n",
              "    </tr>\n",
              "  </tbody>\n",
              "</table>\n",
              "</div>"
            ],
            "text/plain": [
              "                                    Model      MAE        MSE     RMSE  \\\n",
              "rf                Random Forest Regressor   9.3050   157.7615  12.3133   \n",
              "gbr           Gradient Boosting Regressor   9.5942   164.4159  12.5955   \n",
              "et                  Extra Trees Regressor   9.5791   171.5968  12.8106   \n",
              "lightgbm  Light Gradient Boosting Machine  10.3123   192.7276  13.7413   \n",
              "ada                    AdaBoost Regressor  11.3888   195.6854  13.9054   \n",
              "br                         Bayesian Ridge  11.3012   223.5323  14.8568   \n",
              "omp           Orthogonal Matching Pursuit  11.9327   251.3194  15.6125   \n",
              "dt                Decision Tree Regressor  12.0737   278.0188  16.3805   \n",
              "huber                     Huber Regressor  12.7978   306.2467  17.3196   \n",
              "lasso                    Lasso Regression  14.0109   317.0827  17.6936   \n",
              "ridge                    Ridge Regression  14.7068   380.7540  19.3794   \n",
              "en                            Elastic Net  18.5690   487.7375  22.0107   \n",
              "llar         Lasso Least Angle Regression  20.2376   567.2816  23.7649   \n",
              "knn                 K Neighbors Regressor  21.0065   685.4255  26.0742   \n",
              "par          Passive Aggressive Regressor  23.3672   890.7967  29.4670   \n",
              "lr                      Linear Regression  26.3354  2004.6965  40.8384   \n",
              "\n",
              "              R2   RMSLE    MAPE  TT (Sec)  \n",
              "rf        0.7275  0.3838  0.3445     0.609  \n",
              "gbr       0.7149  0.3983  0.3631     0.159  \n",
              "et        0.7038  0.4056  0.3689     0.625  \n",
              "lightgbm  0.6701  0.4276  0.3848     0.088  \n",
              "ada       0.6632  0.4499  0.4757     0.131  \n",
              "br        0.6142  0.4592  0.4332     0.101  \n",
              "omp       0.5663  0.5316  0.4506     0.020  \n",
              "dt        0.5231  0.5081  0.4654     0.024  \n",
              "huber     0.4727  0.5159  0.4398     0.093  \n",
              "lasso     0.4557  0.5070  0.5433     0.021  \n",
              "ridge     0.3421  0.5776  0.5499     0.022  \n",
              "en        0.1700  0.6234  0.7743     0.020  \n",
              "llar      0.0363  0.6720  0.8662     0.255  \n",
              "knn      -0.1653  0.7276  0.8897     0.068  \n",
              "par      -0.5252  0.7359  0.8469     0.022  \n",
              "lr       -2.4546  0.7963  1.0130     0.285  "
            ]
          },
          "metadata": {}
        },
        {
          "output_type": "execute_result",
          "data": {
            "text/plain": [
              "RandomForestRegressor(bootstrap=True, ccp_alpha=0.0, criterion='mse',\n",
              "                      max_depth=None, max_features='auto', max_leaf_nodes=None,\n",
              "                      max_samples=None, min_impurity_decrease=0.0,\n",
              "                      min_impurity_split=None, min_samples_leaf=1,\n",
              "                      min_samples_split=2, min_weight_fraction_leaf=0.0,\n",
              "                      n_estimators=100, n_jobs=-1, oob_score=False,\n",
              "                      random_state=6297, verbose=0, warm_start=False)"
            ]
          },
          "metadata": {},
          "execution_count": 15
        }
      ]
    },
    {
      "cell_type": "markdown",
      "metadata": {
        "id": "NPMjl8jbOaok"
      },
      "source": [
        "# Creating the model with the best algorithm based on the above results\n",
        "- 'rf'\t: Random Forest Regressor\twith highest R2-square value 0.7275\t among all models"
      ]
    },
    {
      "cell_type": "code",
      "metadata": {
        "colab": {
          "base_uri": "https://localhost:8080/",
          "height": 418,
          "referenced_widgets": [
            "6c8a707a162d463da8506f7c3551f788",
            "1def48c2914d4bb88cbb9ea84af2ba0e",
            "f3e51642eb104036865e2d1adbfd3325"
          ]
        },
        "id": "w41cLVvYOaDT",
        "outputId": "8f300967-54be-4746-a33f-c801497fbd2b"
      },
      "source": [
        "model = create_model('rf')"
      ],
      "execution_count": 16,
      "outputs": [
        {
          "output_type": "display_data",
          "data": {
            "text/html": [
              "<div>\n",
              "<style scoped>\n",
              "    .dataframe tbody tr th:only-of-type {\n",
              "        vertical-align: middle;\n",
              "    }\n",
              "\n",
              "    .dataframe tbody tr th {\n",
              "        vertical-align: top;\n",
              "    }\n",
              "\n",
              "    .dataframe thead th {\n",
              "        text-align: right;\n",
              "    }\n",
              "</style>\n",
              "<table border=\"1\" class=\"dataframe\">\n",
              "  <thead>\n",
              "    <tr style=\"text-align: right;\">\n",
              "      <th></th>\n",
              "      <th>MAE</th>\n",
              "      <th>MSE</th>\n",
              "      <th>RMSE</th>\n",
              "      <th>R2</th>\n",
              "      <th>RMSLE</th>\n",
              "      <th>MAPE</th>\n",
              "    </tr>\n",
              "  </thead>\n",
              "  <tbody>\n",
              "    <tr>\n",
              "      <th>0</th>\n",
              "      <td>13.4052</td>\n",
              "      <td>308.0738</td>\n",
              "      <td>17.5520</td>\n",
              "      <td>0.4732</td>\n",
              "      <td>0.4746</td>\n",
              "      <td>0.3881</td>\n",
              "    </tr>\n",
              "    <tr>\n",
              "      <th>1</th>\n",
              "      <td>7.4867</td>\n",
              "      <td>83.9143</td>\n",
              "      <td>9.1605</td>\n",
              "      <td>0.8521</td>\n",
              "      <td>0.3223</td>\n",
              "      <td>0.2817</td>\n",
              "    </tr>\n",
              "    <tr>\n",
              "      <th>2</th>\n",
              "      <td>8.3832</td>\n",
              "      <td>131.4492</td>\n",
              "      <td>11.4651</td>\n",
              "      <td>0.7609</td>\n",
              "      <td>0.2829</td>\n",
              "      <td>0.2508</td>\n",
              "    </tr>\n",
              "    <tr>\n",
              "      <th>3</th>\n",
              "      <td>8.3224</td>\n",
              "      <td>112.1144</td>\n",
              "      <td>10.5884</td>\n",
              "      <td>0.7763</td>\n",
              "      <td>0.2936</td>\n",
              "      <td>0.2507</td>\n",
              "    </tr>\n",
              "    <tr>\n",
              "      <th>4</th>\n",
              "      <td>8.0044</td>\n",
              "      <td>107.7632</td>\n",
              "      <td>10.3809</td>\n",
              "      <td>0.8336</td>\n",
              "      <td>0.2901</td>\n",
              "      <td>0.2128</td>\n",
              "    </tr>\n",
              "    <tr>\n",
              "      <th>5</th>\n",
              "      <td>9.6886</td>\n",
              "      <td>157.7515</td>\n",
              "      <td>12.5599</td>\n",
              "      <td>0.6740</td>\n",
              "      <td>0.4877</td>\n",
              "      <td>0.4662</td>\n",
              "    </tr>\n",
              "    <tr>\n",
              "      <th>6</th>\n",
              "      <td>9.3888</td>\n",
              "      <td>168.6550</td>\n",
              "      <td>12.9867</td>\n",
              "      <td>0.7140</td>\n",
              "      <td>0.3893</td>\n",
              "      <td>0.3572</td>\n",
              "    </tr>\n",
              "    <tr>\n",
              "      <th>7</th>\n",
              "      <td>10.6031</td>\n",
              "      <td>177.9010</td>\n",
              "      <td>13.3380</td>\n",
              "      <td>0.6856</td>\n",
              "      <td>0.4486</td>\n",
              "      <td>0.4767</td>\n",
              "    </tr>\n",
              "    <tr>\n",
              "      <th>8</th>\n",
              "      <td>10.1161</td>\n",
              "      <td>233.6122</td>\n",
              "      <td>15.2844</td>\n",
              "      <td>0.6325</td>\n",
              "      <td>0.5635</td>\n",
              "      <td>0.5146</td>\n",
              "    </tr>\n",
              "    <tr>\n",
              "      <th>9</th>\n",
              "      <td>7.6513</td>\n",
              "      <td>96.3799</td>\n",
              "      <td>9.8173</td>\n",
              "      <td>0.8733</td>\n",
              "      <td>0.2851</td>\n",
              "      <td>0.2462</td>\n",
              "    </tr>\n",
              "    <tr>\n",
              "      <th>Mean</th>\n",
              "      <td>9.3050</td>\n",
              "      <td>157.7615</td>\n",
              "      <td>12.3133</td>\n",
              "      <td>0.7275</td>\n",
              "      <td>0.3838</td>\n",
              "      <td>0.3445</td>\n",
              "    </tr>\n",
              "    <tr>\n",
              "      <th>SD</th>\n",
              "      <td>1.6987</td>\n",
              "      <td>65.8546</td>\n",
              "      <td>2.4786</td>\n",
              "      <td>0.1140</td>\n",
              "      <td>0.0981</td>\n",
              "      <td>0.1057</td>\n",
              "    </tr>\n",
              "  </tbody>\n",
              "</table>\n",
              "</div>"
            ],
            "text/plain": [
              "          MAE       MSE     RMSE      R2   RMSLE    MAPE\n",
              "0     13.4052  308.0738  17.5520  0.4732  0.4746  0.3881\n",
              "1      7.4867   83.9143   9.1605  0.8521  0.3223  0.2817\n",
              "2      8.3832  131.4492  11.4651  0.7609  0.2829  0.2508\n",
              "3      8.3224  112.1144  10.5884  0.7763  0.2936  0.2507\n",
              "4      8.0044  107.7632  10.3809  0.8336  0.2901  0.2128\n",
              "5      9.6886  157.7515  12.5599  0.6740  0.4877  0.4662\n",
              "6      9.3888  168.6550  12.9867  0.7140  0.3893  0.3572\n",
              "7     10.6031  177.9010  13.3380  0.6856  0.4486  0.4767\n",
              "8     10.1161  233.6122  15.2844  0.6325  0.5635  0.5146\n",
              "9      7.6513   96.3799   9.8173  0.8733  0.2851  0.2462\n",
              "Mean   9.3050  157.7615  12.3133  0.7275  0.3838  0.3445\n",
              "SD     1.6987   65.8546   2.4786  0.1140  0.0981  0.1057"
            ]
          },
          "metadata": {}
        }
      ]
    },
    {
      "cell_type": "markdown",
      "metadata": {
        "id": "57fpJ0hgPehZ"
      },
      "source": [
        "- got the same mean R2-square value using Random Forest Regressor model which is 0.7275\t"
      ]
    },
    {
      "cell_type": "markdown",
      "metadata": {
        "id": "6HojpiWpPuWt"
      },
      "source": [
        "# Loading the Client dataset for which predictions to be made\n"
      ]
    },
    {
      "cell_type": "markdown",
      "metadata": {
        "id": "78deCrZFYm1P"
      },
      "source": [
        "- we used florida's high school data in order to predict their best schools "
      ]
    },
    {
      "cell_type": "code",
      "metadata": {
        "id": "PfDbDH8hPvzu"
      },
      "source": [
        "pred_data = pd.read_csv('/content/FL High Schools Client Dataset.csv')"
      ],
      "execution_count": 17,
      "outputs": []
    },
    {
      "cell_type": "markdown",
      "metadata": {
        "id": "dUrgMypiP5TN"
      },
      "source": [
        "# Predicting the values using the best model"
      ]
    },
    {
      "cell_type": "code",
      "metadata": {
        "id": "6yYTksJ2P4cy"
      },
      "source": [
        "predictions = predict_model(model, data = pred_data)"
      ],
      "execution_count": 18,
      "outputs": []
    },
    {
      "cell_type": "markdown",
      "metadata": {
        "id": "3mUEQ5NcP_A5"
      },
      "source": [
        "# Converting predictions dataframe to csv\n"
      ]
    },
    {
      "cell_type": "code",
      "metadata": {
        "id": "y-SIgMKZQAxT"
      },
      "source": [
        "predictions.to_csv(\"FL School Predictions.csv\")"
      ],
      "execution_count": 19,
      "outputs": []
    },
    {
      "cell_type": "markdown",
      "metadata": {
        "id": "XgIQtznIQQ21"
      },
      "source": [
        "# Prediction result"
      ]
    },
    {
      "cell_type": "code",
      "metadata": {
        "colab": {
          "base_uri": "https://localhost:8080/",
          "height": 492
        },
        "id": "r3bqvgqAQJ5_",
        "outputId": "3d31ac71-740a-4108-b705-4a60bf8f1a9b"
      },
      "source": [
        "df2=pd.read_csv('/content/FL School Predictions.csv')\n",
        "df2.head()"
      ],
      "execution_count": 20,
      "outputs": [
        {
          "output_type": "execute_result",
          "data": {
            "text/html": [
              "<div>\n",
              "<style scoped>\n",
              "    .dataframe tbody tr th:only-of-type {\n",
              "        vertical-align: middle;\n",
              "    }\n",
              "\n",
              "    .dataframe tbody tr th {\n",
              "        vertical-align: top;\n",
              "    }\n",
              "\n",
              "    .dataframe thead th {\n",
              "        text-align: right;\n",
              "    }\n",
              "</style>\n",
              "<table border=\"1\" class=\"dataframe\">\n",
              "  <thead>\n",
              "    <tr style=\"text-align: right;\">\n",
              "      <th></th>\n",
              "      <th>Unnamed: 0</th>\n",
              "      <th>School</th>\n",
              "      <th>School URL</th>\n",
              "      <th>District</th>\n",
              "      <th>District URL</th>\n",
              "      <th>City</th>\n",
              "      <th>City URL</th>\n",
              "      <th>Zip</th>\n",
              "      <th>County</th>\n",
              "      <th>Phone</th>\n",
              "      <th>Low Grade</th>\n",
              "      <th>High Grade</th>\n",
              "      <th>Is Title I</th>\n",
              "      <th>Is Charter</th>\n",
              "      <th>Is Magnet</th>\n",
              "      <th>Is Virtual</th>\n",
              "      <th>Number Students</th>\n",
              "      <th>Number Full-time Teachers</th>\n",
              "      <th>Student/Teacher Ratio</th>\n",
              "      <th>Percent Free/Disc Lunch</th>\n",
              "      <th>Percent African American</th>\n",
              "      <th>Percent American Indian</th>\n",
              "      <th>Percent Asian</th>\n",
              "      <th>Percent Hispanic</th>\n",
              "      <th>Percent Pacific Islander</th>\n",
              "      <th>Percent Two or More Races</th>\n",
              "      <th>Percent White</th>\n",
              "      <th>Average Standard Score (2018-19)</th>\n",
              "      <th>Label</th>\n",
              "    </tr>\n",
              "  </thead>\n",
              "  <tbody>\n",
              "    <tr>\n",
              "      <th>0</th>\n",
              "      <td>0</td>\n",
              "      <td>Atlantic Technical College</td>\n",
              "      <td>https://www.schooldigger.com/go/FL/schools/001...</td>\n",
              "      <td>Broward</td>\n",
              "      <td>https://www.schooldigger.com/go/FL/district/00...</td>\n",
              "      <td>Margate</td>\n",
              "      <td>https://www.schooldigger.com/go/FL/city/Margat...</td>\n",
              "      <td>33063</td>\n",
              "      <td>Broward</td>\n",
              "      <td>(754) 321-5100</td>\n",
              "      <td>9</td>\n",
              "      <td>12</td>\n",
              "      <td>No</td>\n",
              "      <td>No</td>\n",
              "      <td>Yes</td>\n",
              "      <td>No</td>\n",
              "      <td>649</td>\n",
              "      <td>124.0</td>\n",
              "      <td>5.2</td>\n",
              "      <td>66.9</td>\n",
              "      <td>50.1</td>\n",
              "      <td>0.6</td>\n",
              "      <td>5.4</td>\n",
              "      <td>25.7</td>\n",
              "      <td>0.0</td>\n",
              "      <td>4.0</td>\n",
              "      <td>14.2</td>\n",
              "      <td>NaN</td>\n",
              "      <td>57.592001</td>\n",
              "    </tr>\n",
              "    <tr>\n",
              "      <th>1</th>\n",
              "      <td>1</td>\n",
              "      <td>Seaside Neighborhood School</td>\n",
              "      <td>https://www.schooldigger.com/go/FL/schools/019...</td>\n",
              "      <td>Walton</td>\n",
              "      <td>https://www.schooldigger.com/go/FL/district/01...</td>\n",
              "      <td>Santa Rosa Beach</td>\n",
              "      <td>https://www.schooldigger.com/go/FL/city/Santa+...</td>\n",
              "      <td>32459</td>\n",
              "      <td>Walton</td>\n",
              "      <td>(850) 231-0396</td>\n",
              "      <td>5</td>\n",
              "      <td>12</td>\n",
              "      <td>No</td>\n",
              "      <td>Yes</td>\n",
              "      <td>No</td>\n",
              "      <td>No</td>\n",
              "      <td>347</td>\n",
              "      <td>24.0</td>\n",
              "      <td>14.4</td>\n",
              "      <td>6.3</td>\n",
              "      <td>1.4</td>\n",
              "      <td>0.3</td>\n",
              "      <td>2.9</td>\n",
              "      <td>3.7</td>\n",
              "      <td>0.6</td>\n",
              "      <td>2.9</td>\n",
              "      <td>88.2</td>\n",
              "      <td>NaN</td>\n",
              "      <td>63.776001</td>\n",
              "    </tr>\n",
              "    <tr>\n",
              "      <th>2</th>\n",
              "      <td>2</td>\n",
              "      <td>Terra Environmental Research Institute</td>\n",
              "      <td>https://www.schooldigger.com/go/FL/schools/003...</td>\n",
              "      <td>Miami-Dade</td>\n",
              "      <td>https://www.schooldigger.com/go/FL/district/00...</td>\n",
              "      <td>Miami</td>\n",
              "      <td>https://www.schooldigger.com/go/FL/city/Miami/...</td>\n",
              "      <td>33173</td>\n",
              "      <td>Miami-Dade</td>\n",
              "      <td>(305) 412-5800</td>\n",
              "      <td>9</td>\n",
              "      <td>12</td>\n",
              "      <td>No</td>\n",
              "      <td>No</td>\n",
              "      <td>Yes</td>\n",
              "      <td>No</td>\n",
              "      <td>1783</td>\n",
              "      <td>73.0</td>\n",
              "      <td>24.4</td>\n",
              "      <td>38.5</td>\n",
              "      <td>2.3</td>\n",
              "      <td>0.1</td>\n",
              "      <td>3.0</td>\n",
              "      <td>81.9</td>\n",
              "      <td>0.1</td>\n",
              "      <td>0.7</td>\n",
              "      <td>12.0</td>\n",
              "      <td>NaN</td>\n",
              "      <td>57.604001</td>\n",
              "    </tr>\n",
              "    <tr>\n",
              "      <th>3</th>\n",
              "      <td>3</td>\n",
              "      <td>Clark Advanced Learning Center</td>\n",
              "      <td>https://www.schooldigger.com/go/FL/schools/012...</td>\n",
              "      <td>Martin</td>\n",
              "      <td>https://www.schooldigger.com/go/FL/district/01...</td>\n",
              "      <td>Stuart</td>\n",
              "      <td>https://www.schooldigger.com/go/FL/city/Stuart...</td>\n",
              "      <td>34997</td>\n",
              "      <td>Martin</td>\n",
              "      <td>(772) 419-5751</td>\n",
              "      <td>10</td>\n",
              "      <td>12</td>\n",
              "      <td>No</td>\n",
              "      <td>Yes</td>\n",
              "      <td>No</td>\n",
              "      <td>No</td>\n",
              "      <td>249</td>\n",
              "      <td>8.0</td>\n",
              "      <td>31.1</td>\n",
              "      <td>18.1</td>\n",
              "      <td>2.8</td>\n",
              "      <td>0.0</td>\n",
              "      <td>2.8</td>\n",
              "      <td>15.3</td>\n",
              "      <td>0.0</td>\n",
              "      <td>2.0</td>\n",
              "      <td>77.1</td>\n",
              "      <td>NaN</td>\n",
              "      <td>63.677001</td>\n",
              "    </tr>\n",
              "    <tr>\n",
              "      <th>4</th>\n",
              "      <td>4</td>\n",
              "      <td>Design &amp; Architecture Senior High</td>\n",
              "      <td>https://www.schooldigger.com/go/FL/schools/003...</td>\n",
              "      <td>Miami-Dade</td>\n",
              "      <td>https://www.schooldigger.com/go/FL/district/00...</td>\n",
              "      <td>Miami</td>\n",
              "      <td>https://www.schooldigger.com/go/FL/city/Miami/...</td>\n",
              "      <td>33137</td>\n",
              "      <td>Miami-Dade</td>\n",
              "      <td>(305) 573-7135</td>\n",
              "      <td>9</td>\n",
              "      <td>12</td>\n",
              "      <td>No</td>\n",
              "      <td>No</td>\n",
              "      <td>Yes</td>\n",
              "      <td>No</td>\n",
              "      <td>503</td>\n",
              "      <td>30.0</td>\n",
              "      <td>16.7</td>\n",
              "      <td>33.0</td>\n",
              "      <td>7.4</td>\n",
              "      <td>0.0</td>\n",
              "      <td>4.0</td>\n",
              "      <td>60.4</td>\n",
              "      <td>0.0</td>\n",
              "      <td>1.6</td>\n",
              "      <td>26.6</td>\n",
              "      <td>NaN</td>\n",
              "      <td>62.127001</td>\n",
              "    </tr>\n",
              "  </tbody>\n",
              "</table>\n",
              "</div>"
            ],
            "text/plain": [
              "   Unnamed: 0  ...      Label\n",
              "0           0  ...  57.592001\n",
              "1           1  ...  63.776001\n",
              "2           2  ...  57.604001\n",
              "3           3  ...  63.677001\n",
              "4           4  ...  62.127001\n",
              "\n",
              "[5 rows x 29 columns]"
            ]
          },
          "metadata": {},
          "execution_count": 20
        }
      ]
    },
    {
      "cell_type": "code",
      "metadata": {
        "colab": {
          "base_uri": "https://localhost:8080/"
        },
        "id": "1FbFpMOwQdjY",
        "outputId": "4bb5a9c7-ba3d-4c85-e561-5680dd99b2c9"
      },
      "source": [
        "df2['Label'].max()"
      ],
      "execution_count": 21,
      "outputs": [
        {
          "output_type": "execute_result",
          "data": {
            "text/plain": [
              "64.7550014781952"
            ]
          },
          "metadata": {},
          "execution_count": 21
        }
      ]
    },
    {
      "cell_type": "markdown",
      "metadata": {
        "id": "zm1CriqpT7rm"
      },
      "source": [
        "- By downloading the client prediction dataset using our predictive model, we got that **Palm Bay Preparatory Academy 6-12** will score highest of 61.64 in next year. Thus, in FL, you recommend the best school will be this school."
      ]
    },
    {
      "cell_type": "markdown",
      "metadata": {
        "id": "8SJarJobYxsg"
      },
      "source": [
        "# Future Works\n",
        "- Model will be deployed using as a Web App for production and a feedback loop will be added for model improvement by keeping track of models logs such as loss, latency and other parameters will be added for monitoring."
      ]
    }
  ]
}