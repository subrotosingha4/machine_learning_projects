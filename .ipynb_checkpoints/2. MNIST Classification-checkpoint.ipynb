{
 "cells": [
  {
   "cell_type": "code",
   "execution_count": 20,
   "metadata": {},
   "outputs": [],
   "source": [
    "#Ch2_AI_for_Coders"
   ]
  },
  {
   "cell_type": "markdown",
   "metadata": {},
   "source": [
    "# Import"
   ]
  },
  {
   "cell_type": "code",
   "execution_count": 21,
   "metadata": {},
   "outputs": [],
   "source": [
    "import tensorflow as tf"
   ]
  },
  {
   "cell_type": "markdown",
   "metadata": {},
   "source": [
    "# Dataset"
   ]
  },
  {
   "cell_type": "code",
   "execution_count": 22,
   "metadata": {},
   "outputs": [],
   "source": [
    "data = tf.keras.datasets.fashion_mnist\n",
    "\n",
    "(training_images, training_labels), (test_images, test_labels) = data.load_data()"
   ]
  },
  {
   "cell_type": "markdown",
   "metadata": {},
   "source": [
    "# Data Preprocessing"
   ]
  },
  {
   "cell_type": "markdown",
   "metadata": {},
   "source": [
    "- Normalize the image pixel values between 0 -1 "
   ]
  },
  {
   "cell_type": "code",
   "execution_count": 23,
   "metadata": {},
   "outputs": [],
   "source": [
    "training_images  = training_images / 255.0\n",
    "test_images = test_images / 255.0"
   ]
  },
  {
   "cell_type": "markdown",
   "metadata": {},
   "source": [
    "# Model"
   ]
  },
  {
   "cell_type": "code",
   "execution_count": 24,
   "metadata": {},
   "outputs": [],
   "source": [
    "model = tf.keras.models.Sequential([\n",
    "            tf.keras.layers.Flatten(input_shape=(28, 28)),\n",
    "            tf.keras.layers.Dense(128, activation=tf.nn.relu),\n",
    "            tf.keras.layers.Dense(10, activation=tf.nn.softmax)\n",
    "        ])"
   ]
  },
  {
   "cell_type": "markdown",
   "metadata": {},
   "source": [
    "# Model optimization"
   ]
  },
  {
   "cell_type": "code",
   "execution_count": 25,
   "metadata": {},
   "outputs": [],
   "source": [
    "model.compile(optimizer='adam',\n",
    "              loss='sparse_categorical_crossentropy',\n",
    "              metrics=['accuracy'])"
   ]
  },
  {
   "cell_type": "markdown",
   "metadata": {},
   "source": [
    "# Train the Model"
   ]
  },
  {
   "cell_type": "code",
   "execution_count": 26,
   "metadata": {},
   "outputs": [
    {
     "name": "stdout",
     "output_type": "stream",
     "text": [
      "Epoch 1/5\n",
      "1875/1875 [==============================] - 1s 664us/step - loss: 0.6437 - accuracy: 0.7730\n",
      "Epoch 2/5\n",
      "1875/1875 [==============================] - 1s 708us/step - loss: 0.3825 - accuracy: 0.8633\n",
      "Epoch 3/5\n",
      "1875/1875 [==============================] - 1s 639us/step - loss: 0.3376 - accuracy: 0.8771\n",
      "Epoch 4/5\n",
      "1875/1875 [==============================] - 1s 655us/step - loss: 0.3161 - accuracy: 0.8837\n",
      "Epoch 5/5\n",
      "1875/1875 [==============================] - 1s 692us/step - loss: 0.2968 - accuracy: 0.8912\n"
     ]
    },
    {
     "data": {
      "text/plain": [
       "<tensorflow.python.keras.callbacks.History at 0x7fce76f204c0>"
      ]
     },
     "execution_count": 26,
     "metadata": {},
     "output_type": "execute_result"
    }
   ],
   "source": [
    "model.fit(training_images, training_labels, epochs=5)"
   ]
  },
  {
   "cell_type": "markdown",
   "metadata": {},
   "source": [
    "# Exploring the Model Output"
   ]
  },
  {
   "cell_type": "code",
   "execution_count": 27,
   "metadata": {},
   "outputs": [
    {
     "name": "stdout",
     "output_type": "stream",
     "text": [
      "[7.9998163e-06 2.1490328e-08 2.7386295e-07 6.2107155e-08 2.0478120e-07\n",
      " 1.3668360e-02 1.3438862e-05 6.0861561e-02 4.0248873e-05 9.2540783e-01]\n",
      "9\n"
     ]
    }
   ],
   "source": [
    "classifications = model.predict(test_images)\n",
    "print(classifications[0])\n",
    "print(test_labels[0])"
   ]
  },
  {
   "cell_type": "markdown",
   "metadata": {},
   "source": [
    "# Training for Longer—Discovering Overfitting"
   ]
  },
  {
   "cell_type": "code",
   "execution_count": 28,
   "metadata": {},
   "outputs": [
    {
     "name": "stdout",
     "output_type": "stream",
     "text": [
      "Epoch 1/50\n",
      "1875/1875 [==============================] - 2s 644us/step - loss: 0.6350 - accuracy: 0.7784\n",
      "Epoch 2/50\n",
      "1875/1875 [==============================] - 1s 660us/step - loss: 0.3889 - accuracy: 0.8598\n",
      "Epoch 3/50\n",
      "1875/1875 [==============================] - 1s 646us/step - loss: 0.3416 - accuracy: 0.8754\n",
      "Epoch 4/50\n",
      "1875/1875 [==============================] - 1s 698us/step - loss: 0.3225 - accuracy: 0.8813\n",
      "Epoch 5/50\n",
      "1875/1875 [==============================] - 1s 627us/step - loss: 0.2936 - accuracy: 0.8912\n",
      "Epoch 6/50\n",
      "1875/1875 [==============================] - 1s 665us/step - loss: 0.2810 - accuracy: 0.8976\n",
      "Epoch 7/50\n",
      "1875/1875 [==============================] - 1s 639us/step - loss: 0.2706 - accuracy: 0.9006\n",
      "Epoch 8/50\n",
      "1875/1875 [==============================] - 1s 722us/step - loss: 0.2610 - accuracy: 0.9030\n",
      "Epoch 9/50\n",
      "1875/1875 [==============================] - 1s 676us/step - loss: 0.2459 - accuracy: 0.9086\n",
      "Epoch 10/50\n",
      "1875/1875 [==============================] - 1s 661us/step - loss: 0.2452 - accuracy: 0.9095\n",
      "Epoch 11/50\n",
      "1875/1875 [==============================] - 1s 674us/step - loss: 0.2289 - accuracy: 0.9146\n",
      "Epoch 12/50\n",
      "1875/1875 [==============================] - 1s 637us/step - loss: 0.2248 - accuracy: 0.9162\n",
      "Epoch 13/50\n",
      "1875/1875 [==============================] - 1s 638us/step - loss: 0.2192 - accuracy: 0.9180\n",
      "Epoch 14/50\n",
      "1875/1875 [==============================] - 1s 639us/step - loss: 0.2149 - accuracy: 0.9191\n",
      "Epoch 15/50\n",
      "1875/1875 [==============================] - 1s 634us/step - loss: 0.2025 - accuracy: 0.9237\n",
      "Epoch 16/50\n",
      "1875/1875 [==============================] - 1s 634us/step - loss: 0.2002 - accuracy: 0.9257\n",
      "Epoch 17/50\n",
      "1875/1875 [==============================] - 1s 661us/step - loss: 0.1960 - accuracy: 0.9270\n",
      "Epoch 18/50\n",
      "1875/1875 [==============================] - 1s 640us/step - loss: 0.1923 - accuracy: 0.9281\n",
      "Epoch 19/50\n",
      "1875/1875 [==============================] - 1s 637us/step - loss: 0.1865 - accuracy: 0.9293\n",
      "Epoch 20/50\n",
      "1875/1875 [==============================] - 1s 647us/step - loss: 0.1800 - accuracy: 0.9314\n",
      "Epoch 21/50\n",
      "1875/1875 [==============================] - 1s 644us/step - loss: 0.1743 - accuracy: 0.9356\n",
      "Epoch 22/50\n",
      "1875/1875 [==============================] - 1s 624us/step - loss: 0.1752 - accuracy: 0.9346\n",
      "Epoch 23/50\n",
      "1875/1875 [==============================] - 1s 624us/step - loss: 0.1634 - accuracy: 0.9390\n",
      "Epoch 24/50\n",
      "1875/1875 [==============================] - 1s 625us/step - loss: 0.1588 - accuracy: 0.9408\n",
      "Epoch 25/50\n",
      "1875/1875 [==============================] - 1s 628us/step - loss: 0.1599 - accuracy: 0.9408\n",
      "Epoch 26/50\n",
      "1875/1875 [==============================] - 1s 616us/step - loss: 0.1535 - accuracy: 0.9423\n",
      "Epoch 27/50\n",
      "1875/1875 [==============================] - 1s 608us/step - loss: 0.1558 - accuracy: 0.9419\n",
      "Epoch 28/50\n",
      "1875/1875 [==============================] - 1s 615us/step - loss: 0.1524 - accuracy: 0.9420\n",
      "Epoch 29/50\n",
      "1875/1875 [==============================] - 1s 612us/step - loss: 0.1454 - accuracy: 0.9450\n",
      "Epoch 30/50\n",
      "1875/1875 [==============================] - 1s 625us/step - loss: 0.1422 - accuracy: 0.9463\n",
      "Epoch 31/50\n",
      "1875/1875 [==============================] - 1s 615us/step - loss: 0.1397 - accuracy: 0.9464\n",
      "Epoch 32/50\n",
      "1875/1875 [==============================] - 1s 620us/step - loss: 0.1349 - accuracy: 0.9496\n",
      "Epoch 33/50\n",
      "1875/1875 [==============================] - 1s 603us/step - loss: 0.1297 - accuracy: 0.9512\n",
      "Epoch 34/50\n",
      "1875/1875 [==============================] - 1s 623us/step - loss: 0.1301 - accuracy: 0.9519\n",
      "Epoch 35/50\n",
      "1875/1875 [==============================] - 1s 615us/step - loss: 0.1268 - accuracy: 0.9532\n",
      "Epoch 36/50\n",
      "1875/1875 [==============================] - 1s 604us/step - loss: 0.1211 - accuracy: 0.9549\n",
      "Epoch 37/50\n",
      "1875/1875 [==============================] - 1s 608us/step - loss: 0.1284 - accuracy: 0.9520\n",
      "Epoch 38/50\n",
      "1875/1875 [==============================] - 1s 593us/step - loss: 0.1227 - accuracy: 0.9539\n",
      "Epoch 39/50\n",
      "1875/1875 [==============================] - 1s 595us/step - loss: 0.1182 - accuracy: 0.9554\n",
      "Epoch 40/50\n",
      "1875/1875 [==============================] - 1s 608us/step - loss: 0.1156 - accuracy: 0.9565\n",
      "Epoch 41/50\n",
      "1875/1875 [==============================] - 1s 613us/step - loss: 0.1112 - accuracy: 0.9580\n",
      "Epoch 42/50\n",
      "1875/1875 [==============================] - 1s 607us/step - loss: 0.1101 - accuracy: 0.9582\n",
      "Epoch 43/50\n",
      "1875/1875 [==============================] - 1s 605us/step - loss: 0.1114 - accuracy: 0.9591\n",
      "Epoch 44/50\n",
      "1875/1875 [==============================] - 1s 616us/step - loss: 0.1094 - accuracy: 0.9579\n",
      "Epoch 45/50\n",
      "1875/1875 [==============================] - 1s 618us/step - loss: 0.1061 - accuracy: 0.9609\n",
      "Epoch 46/50\n",
      "1875/1875 [==============================] - 1s 617us/step - loss: 0.1066 - accuracy: 0.9603\n",
      "Epoch 47/50\n",
      "1875/1875 [==============================] - 1s 614us/step - loss: 0.1060 - accuracy: 0.9596\n",
      "Epoch 48/50\n",
      "1875/1875 [==============================] - 1s 614us/step - loss: 0.1002 - accuracy: 0.9624\n",
      "Epoch 49/50\n",
      "1875/1875 [==============================] - 1s 605us/step - loss: 0.0991 - accuracy: 0.9636\n",
      "Epoch 50/50\n",
      "1875/1875 [==============================] - 1s 605us/step - loss: 0.0983 - accuracy: 0.9645\n"
     ]
    },
    {
     "data": {
      "text/plain": [
       "<tensorflow.python.keras.callbacks.History at 0x7fce96781730>"
      ]
     },
     "execution_count": 28,
     "metadata": {},
     "output_type": "execute_result"
    }
   ],
   "source": [
    "model_1 = tf.keras.models.Sequential([\n",
    "            tf.keras.layers.Flatten(input_shape=(28, 28)),\n",
    "            tf.keras.layers.Dense(128, activation=tf.nn.relu),\n",
    "            tf.keras.layers.Dense(10, activation=tf.nn.softmax)\n",
    "        ])\n",
    "\n",
    "model_1.compile(optimizer='adam',\n",
    "              loss='sparse_categorical_crossentropy',\n",
    "              metrics=['accuracy'])\n",
    "\n",
    "model_1.fit(training_images, training_labels, epochs=50)"
   ]
  },
  {
   "cell_type": "markdown",
   "metadata": {},
   "source": [
    "# Stopping Training"
   ]
  },
  {
   "cell_type": "markdown",
   "metadata": {},
   "source": [
    "- for example, if we want to train until the model is at 95% accuracy on the training set, without knowing how many epochs that will take, how could we do that?\n",
    "\n",
    "- The easiest approach is to use a callback on the training."
   ]
  },
  {
   "cell_type": "code",
   "execution_count": 29,
   "metadata": {},
   "outputs": [],
   "source": [
    "class myCallback(tf.keras.callbacks.Callback):\n",
    "    def on_epoch_end(self, epoch, logs={}):\n",
    "        if(logs.get('accuracy')>0.95):\n",
    "            print(\"\\nReached 95% accuracy so cancelling training!\")\n",
    "            self.model.stop_training = True"
   ]
  },
  {
   "cell_type": "markdown",
   "metadata": {},
   "source": [
    "- Let’s see what we’ve changed here. First, we created a new class called myCallback. This takes a tf.keras.callbacks.Callback as a parameter. In it, we define the on_epoch_end function, which will give us details about the logs for this epoch. In these logs is an accuracy value, so all we have to do is see if it is greater than .95 (or 95%); if it is, we can stop training by saying self.model.stop_training = True.\n",
    "\n",
    "- Once we’ve specified this, we create a callbacks object to be an instance of the myCallback function.\n",
    "\n",
    "- Now check out the model.fit statement. You’ll see that I’ve updated it to train for 50 epochs, and then added a callbacks parameter. To this, I pass the callbacks object.\n",
    "\n",
    "- When training, at the end of every epoch, the callback function will be called. So at the end of each epoch you’ll check, and after about 34 epochs you’ll see that your training will end, because the training has hit 95% accuracy (your number may be slightly different because of the initial random initialization, but it will likely be quite close to 34):"
   ]
  },
  {
   "cell_type": "code",
   "execution_count": 30,
   "metadata": {},
   "outputs": [
    {
     "name": "stdout",
     "output_type": "stream",
     "text": [
      "Epoch 1/50\n",
      "1875/1875 [==============================] - 1s 626us/step - loss: 0.6303 - accuracy: 0.7817\n",
      "Epoch 2/50\n",
      "1875/1875 [==============================] - 1s 610us/step - loss: 0.3838 - accuracy: 0.8640\n",
      "Epoch 3/50\n",
      "1875/1875 [==============================] - 1s 619us/step - loss: 0.3442 - accuracy: 0.8733\n",
      "Epoch 4/50\n",
      "1875/1875 [==============================] - 1s 604us/step - loss: 0.3106 - accuracy: 0.8845\n",
      "Epoch 5/50\n",
      "1875/1875 [==============================] - 1s 605us/step - loss: 0.2913 - accuracy: 0.8916\n",
      "Epoch 6/50\n",
      "1875/1875 [==============================] - 1s 606us/step - loss: 0.2805 - accuracy: 0.8967\n",
      "Epoch 7/50\n",
      "1875/1875 [==============================] - 1s 607us/step - loss: 0.2720 - accuracy: 0.8966\n",
      "Epoch 8/50\n",
      "1875/1875 [==============================] - 1s 615us/step - loss: 0.2554 - accuracy: 0.9051\n",
      "Epoch 9/50\n",
      "1875/1875 [==============================] - 1s 606us/step - loss: 0.2470 - accuracy: 0.9080\n",
      "Epoch 10/50\n",
      "1875/1875 [==============================] - 1s 622us/step - loss: 0.2415 - accuracy: 0.9098\n",
      "Epoch 11/50\n",
      "1875/1875 [==============================] - 1s 669us/step - loss: 0.2303 - accuracy: 0.9129\n",
      "Epoch 12/50\n",
      "1875/1875 [==============================] - 1s 689us/step - loss: 0.2236 - accuracy: 0.9155\n",
      "Epoch 13/50\n",
      "1875/1875 [==============================] - 1s 644us/step - loss: 0.2152 - accuracy: 0.9215\n",
      "Epoch 14/50\n",
      "1875/1875 [==============================] - 1s 639us/step - loss: 0.2117 - accuracy: 0.9211\n",
      "Epoch 15/50\n",
      "1875/1875 [==============================] - 1s 638us/step - loss: 0.2045 - accuracy: 0.9236\n",
      "Epoch 16/50\n",
      "1875/1875 [==============================] - 1s 762us/step - loss: 0.1944 - accuracy: 0.9265\n",
      "Epoch 17/50\n",
      "1875/1875 [==============================] - 1s 639us/step - loss: 0.1952 - accuracy: 0.9270\n",
      "Epoch 18/50\n",
      "1875/1875 [==============================] - 1s 642us/step - loss: 0.1909 - accuracy: 0.9272\n",
      "Epoch 19/50\n",
      "1875/1875 [==============================] - 1s 772us/step - loss: 0.1811 - accuracy: 0.9331\n",
      "Epoch 20/50\n",
      "1875/1875 [==============================] - 1s 660us/step - loss: 0.1792 - accuracy: 0.9318\n",
      "Epoch 21/50\n",
      "1875/1875 [==============================] - 1s 618us/step - loss: 0.1761 - accuracy: 0.9327\n",
      "Epoch 22/50\n",
      "1875/1875 [==============================] - 1s 615us/step - loss: 0.1714 - accuracy: 0.9355\n",
      "Epoch 23/50\n",
      "1875/1875 [==============================] - 1s 621us/step - loss: 0.1658 - accuracy: 0.9378\n",
      "Epoch 24/50\n",
      "1875/1875 [==============================] - 1s 625us/step - loss: 0.1617 - accuracy: 0.9377\n",
      "Epoch 25/50\n",
      "1875/1875 [==============================] - 1s 619us/step - loss: 0.1557 - accuracy: 0.9407\n",
      "Epoch 26/50\n",
      "1875/1875 [==============================] - 1s 623us/step - loss: 0.1537 - accuracy: 0.9424\n",
      "Epoch 27/50\n",
      "1875/1875 [==============================] - 1s 673us/step - loss: 0.1508 - accuracy: 0.9434\n",
      "Epoch 28/50\n",
      "1875/1875 [==============================] - 1s 640us/step - loss: 0.1458 - accuracy: 0.9452\n",
      "Epoch 29/50\n",
      "1875/1875 [==============================] - 1s 676us/step - loss: 0.1441 - accuracy: 0.9456\n",
      "Epoch 30/50\n",
      "1875/1875 [==============================] - 1s 649us/step - loss: 0.1400 - accuracy: 0.9477\n",
      "Epoch 31/50\n",
      "1875/1875 [==============================] - 1s 655us/step - loss: 0.1363 - accuracy: 0.9484\n",
      "Epoch 32/50\n",
      "1875/1875 [==============================] - 1s 641us/step - loss: 0.1345 - accuracy: 0.9500\n",
      "Epoch 33/50\n",
      "1875/1875 [==============================] - 1s 711us/step - loss: 0.1341 - accuracy: 0.9495\n",
      "Epoch 34/50\n",
      "1875/1875 [==============================] - 1s 626us/step - loss: 0.1263 - accuracy: 0.9534\n",
      "\n",
      "Reached 95% accuracy so cancelling training!\n"
     ]
    },
    {
     "data": {
      "text/plain": [
       "<tensorflow.python.keras.callbacks.History at 0x7fce66c1bf70>"
      ]
     },
     "execution_count": 30,
     "metadata": {},
     "output_type": "execute_result"
    }
   ],
   "source": [
    "callbacks = myCallback()\n",
    "\n",
    "model_2 = tf.keras.models.Sequential([\n",
    "        tf.keras.layers.Flatten(),\n",
    "        tf.keras.layers.Dense(128, activation=tf.nn.relu),\n",
    "    tf.keras.layers.Dense(10, activation=tf.nn.softmax)\n",
    "])\n",
    "\n",
    "model_2.compile(optimizer='adam', \n",
    "               loss='sparse_categorical_crossentropy', \n",
    "               metrics=['accuracy'])\n",
    "\n",
    "model_2.fit(training_images, training_labels, epochs=50,callbacks=[callbacks])"
   ]
  },
  {
   "cell_type": "code",
   "execution_count": null,
   "metadata": {},
   "outputs": [],
   "source": []
  }
 ],
 "metadata": {
  "kernelspec": {
   "display_name": "Python 3",
   "language": "python",
   "name": "python3"
  },
  "language_info": {
   "codemirror_mode": {
    "name": "ipython",
    "version": 3
   },
   "file_extension": ".py",
   "mimetype": "text/x-python",
   "name": "python",
   "nbconvert_exporter": "python",
   "pygments_lexer": "ipython3",
   "version": "3.8.5"
  }
 },
 "nbformat": 4,
 "nbformat_minor": 4
}
